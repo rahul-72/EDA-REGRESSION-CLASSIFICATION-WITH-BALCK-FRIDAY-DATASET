{
 "cells": [
  {
   "cell_type": "markdown",
   "metadata": {},
   "source": [
    "# EDA + REGRESSION + CLASSIFICATION FROM SCRATCH WITH BLACK FRIDAY DATASET"
   ]
  },
  {
   "cell_type": "markdown",
   "metadata": {},
   "source": [
    "<img src='https://drive.google.com/uc?id=1ptXTg9tJspLaf6G3N7-rdUDMLeu7srM6' width=1000 >"
   ]
  },
  {
   "cell_type": "markdown",
   "metadata": {},
   "source": [
    "<img src='' width=1000 >"
   ]
  },
  {
   "cell_type": "code",
   "execution_count": 2,
   "metadata": {
    "_cell_guid": "b1076dfc-b9ad-4769-8c92-a6c4dae69d19",
    "_uuid": "8f2839f25d086af736a60e9eeb907d3b93b6e0e5"
   },
   "outputs": [
    {
     "data": {
      "text/html": [
       "<script type=\"text/javascript\">window.PlotlyConfig = {MathJaxConfig: 'local'};</script><script type=\"text/javascript\">if (window.MathJax) {MathJax.Hub.Config({SVG: {font: \"STIX-Web\"}});}</script><script>requirejs.config({paths: { 'plotly': ['https://cdn.plot.ly/plotly-latest.min']},});if(!window._Plotly) {require(['plotly'],function(plotly) {window._Plotly=plotly;});}</script>"
      ],
      "text/vnd.plotly.v1+html": [
       "<script type=\"text/javascript\">window.PlotlyConfig = {MathJaxConfig: 'local'};</script><script type=\"text/javascript\">if (window.MathJax) {MathJax.Hub.Config({SVG: {font: \"STIX-Web\"}});}</script><script>requirejs.config({paths: { 'plotly': ['https://cdn.plot.ly/plotly-latest.min']},});if(!window._Plotly) {require(['plotly'],function(plotly) {window._Plotly=plotly;});}</script>"
      ]
     },
     "metadata": {},
     "output_type": "display_data"
    },
    {
     "data": {
      "text/html": [
       "<script type=\"text/javascript\">window.PlotlyConfig = {MathJaxConfig: 'local'};</script><script type=\"text/javascript\">if (window.MathJax) {MathJax.Hub.Config({SVG: {font: \"STIX-Web\"}});}</script><script>requirejs.config({paths: { 'plotly': ['https://cdn.plot.ly/plotly-latest.min']},});if(!window._Plotly) {require(['plotly'],function(plotly) {window._Plotly=plotly;});}</script>"
      ],
      "text/vnd.plotly.v1+html": [
       "<script type=\"text/javascript\">window.PlotlyConfig = {MathJaxConfig: 'local'};</script><script type=\"text/javascript\">if (window.MathJax) {MathJax.Hub.Config({SVG: {font: \"STIX-Web\"}});}</script><script>requirejs.config({paths: { 'plotly': ['https://cdn.plot.ly/plotly-latest.min']},});if(!window._Plotly) {require(['plotly'],function(plotly) {window._Plotly=plotly;});}</script>"
      ]
     },
     "metadata": {},
     "output_type": "display_data"
    },
    {
     "name": "stdout",
     "output_type": "stream",
     "text": [
      "['BlackFriday.csv']\n"
     ]
    }
   ],
   "source": [
    "# This Python 3 environment comes with many helpful analytics libraries installed\n",
    "# It is defined by the kaggle/python docker image: https://github.com/kaggle/docker-python\n",
    "# For example, here's several helpful packages to load in \n",
    "\n",
    "import numpy as np # linear algebra\n",
    "import pandas as pd # data processing, CSV file I/O (e.g. pd.read_csv)\n",
    "import matplotlib.pyplot as plt\n",
    "import seaborn as sns\n",
    "plt.style.use('ggplot')\n",
    "import plotly.graph_objs as go\n",
    "from plotly.offline import init_notebook_mode, iplot, download_plotlyjs\n",
    "import cufflinks as cf\n",
    "init_notebook_mode(connected=True)\n",
    "cf.go_offline()\n",
    "# Input data files are available in the \"../input/\" directory.\n",
    "# For example, running this (by clicking run or pressing Shift+Enter) will list the files in the input directory\n",
    "\n",
    "import warnings\n",
    "warnings.filterwarnings('ignore')\n",
    "\n",
    "import os\n",
    "print(os.listdir(\"input\"))\n"
   ]
  },
  {
   "cell_type": "code",
   "execution_count": 3,
   "metadata": {
    "_cell_guid": "79c7e3d0-c299-4dcb-8224-4455121ee9b0",
    "_uuid": "d629ff2d2480ee46fbb7e2d37f6b5fab8052498a"
   },
   "outputs": [],
   "source": [
    "# Importing the dataset\n",
    "df = pd.read_csv('input/BlackFriday.csv')"
   ]
  },
  {
   "cell_type": "code",
   "execution_count": 4,
   "metadata": {},
   "outputs": [
    {
     "data": {
      "text/html": [
       "<div>\n",
       "<style scoped>\n",
       "    .dataframe tbody tr th:only-of-type {\n",
       "        vertical-align: middle;\n",
       "    }\n",
       "\n",
       "    .dataframe tbody tr th {\n",
       "        vertical-align: top;\n",
       "    }\n",
       "\n",
       "    .dataframe thead th {\n",
       "        text-align: right;\n",
       "    }\n",
       "</style>\n",
       "<table border=\"1\" class=\"dataframe\">\n",
       "  <thead>\n",
       "    <tr style=\"text-align: right;\">\n",
       "      <th></th>\n",
       "      <th>User_ID</th>\n",
       "      <th>Product_ID</th>\n",
       "      <th>Gender</th>\n",
       "      <th>Age</th>\n",
       "      <th>Occupation</th>\n",
       "      <th>City_Category</th>\n",
       "      <th>Stay_In_Current_City_Years</th>\n",
       "      <th>Marital_Status</th>\n",
       "      <th>Product_Category_1</th>\n",
       "      <th>Product_Category_2</th>\n",
       "      <th>Product_Category_3</th>\n",
       "      <th>Purchase</th>\n",
       "    </tr>\n",
       "  </thead>\n",
       "  <tbody>\n",
       "    <tr>\n",
       "      <th>0</th>\n",
       "      <td>1000001</td>\n",
       "      <td>P00069042</td>\n",
       "      <td>F</td>\n",
       "      <td>0-17</td>\n",
       "      <td>10</td>\n",
       "      <td>A</td>\n",
       "      <td>2</td>\n",
       "      <td>0</td>\n",
       "      <td>3</td>\n",
       "      <td>NaN</td>\n",
       "      <td>NaN</td>\n",
       "      <td>8370</td>\n",
       "    </tr>\n",
       "    <tr>\n",
       "      <th>1</th>\n",
       "      <td>1000001</td>\n",
       "      <td>P00248942</td>\n",
       "      <td>F</td>\n",
       "      <td>0-17</td>\n",
       "      <td>10</td>\n",
       "      <td>A</td>\n",
       "      <td>2</td>\n",
       "      <td>0</td>\n",
       "      <td>1</td>\n",
       "      <td>6.0</td>\n",
       "      <td>14.0</td>\n",
       "      <td>15200</td>\n",
       "    </tr>\n",
       "    <tr>\n",
       "      <th>2</th>\n",
       "      <td>1000001</td>\n",
       "      <td>P00087842</td>\n",
       "      <td>F</td>\n",
       "      <td>0-17</td>\n",
       "      <td>10</td>\n",
       "      <td>A</td>\n",
       "      <td>2</td>\n",
       "      <td>0</td>\n",
       "      <td>12</td>\n",
       "      <td>NaN</td>\n",
       "      <td>NaN</td>\n",
       "      <td>1422</td>\n",
       "    </tr>\n",
       "    <tr>\n",
       "      <th>3</th>\n",
       "      <td>1000001</td>\n",
       "      <td>P00085442</td>\n",
       "      <td>F</td>\n",
       "      <td>0-17</td>\n",
       "      <td>10</td>\n",
       "      <td>A</td>\n",
       "      <td>2</td>\n",
       "      <td>0</td>\n",
       "      <td>12</td>\n",
       "      <td>14.0</td>\n",
       "      <td>NaN</td>\n",
       "      <td>1057</td>\n",
       "    </tr>\n",
       "    <tr>\n",
       "      <th>4</th>\n",
       "      <td>1000002</td>\n",
       "      <td>P00285442</td>\n",
       "      <td>M</td>\n",
       "      <td>55+</td>\n",
       "      <td>16</td>\n",
       "      <td>C</td>\n",
       "      <td>4+</td>\n",
       "      <td>0</td>\n",
       "      <td>8</td>\n",
       "      <td>NaN</td>\n",
       "      <td>NaN</td>\n",
       "      <td>7969</td>\n",
       "    </tr>\n",
       "  </tbody>\n",
       "</table>\n",
       "</div>"
      ],
      "text/plain": [
       "   User_ID Product_ID Gender   Age  Occupation City_Category  \\\n",
       "0  1000001  P00069042      F  0-17          10             A   \n",
       "1  1000001  P00248942      F  0-17          10             A   \n",
       "2  1000001  P00087842      F  0-17          10             A   \n",
       "3  1000001  P00085442      F  0-17          10             A   \n",
       "4  1000002  P00285442      M   55+          16             C   \n",
       "\n",
       "  Stay_In_Current_City_Years  Marital_Status  Product_Category_1  \\\n",
       "0                          2               0                   3   \n",
       "1                          2               0                   1   \n",
       "2                          2               0                  12   \n",
       "3                          2               0                  12   \n",
       "4                         4+               0                   8   \n",
       "\n",
       "   Product_Category_2  Product_Category_3  Purchase  \n",
       "0                 NaN                 NaN      8370  \n",
       "1                 6.0                14.0     15200  \n",
       "2                 NaN                 NaN      1422  \n",
       "3                14.0                 NaN      1057  \n",
       "4                 NaN                 NaN      7969  "
      ]
     },
     "execution_count": 4,
     "metadata": {},
     "output_type": "execute_result"
    }
   ],
   "source": [
    "# Let us check the Top 5 entries in the dataset.\n",
    "df.head()"
   ]
  },
  {
   "cell_type": "markdown",
   "metadata": {},
   "source": [
    "# BASIC EDA"
   ]
  },
  {
   "cell_type": "code",
   "execution_count": 5,
   "metadata": {},
   "outputs": [
    {
     "name": "stdout",
     "output_type": "stream",
     "text": [
      "<class 'pandas.core.frame.DataFrame'>\n",
      "RangeIndex: 537577 entries, 0 to 537576\n",
      "Data columns (total 12 columns):\n",
      "User_ID                       537577 non-null int64\n",
      "Product_ID                    537577 non-null object\n",
      "Gender                        537577 non-null object\n",
      "Age                           537577 non-null object\n",
      "Occupation                    537577 non-null int64\n",
      "City_Category                 537577 non-null object\n",
      "Stay_In_Current_City_Years    537577 non-null object\n",
      "Marital_Status                537577 non-null int64\n",
      "Product_Category_1            537577 non-null int64\n",
      "Product_Category_2            370591 non-null float64\n",
      "Product_Category_3            164278 non-null float64\n",
      "Purchase                      537577 non-null int64\n",
      "dtypes: float64(2), int64(5), object(5)\n",
      "memory usage: 49.2+ MB\n"
     ]
    }
   ],
   "source": [
    "# Basic information \n",
    "df.info()"
   ]
  },
  {
   "cell_type": "markdown",
   "metadata": {},
   "source": [
    "### 1). Dealing with Null values/ missing data."
   ]
  },
  {
   "cell_type": "code",
   "execution_count": 6,
   "metadata": {},
   "outputs": [
    {
     "data": {
      "text/html": [
       "<div>\n",
       "<style scoped>\n",
       "    .dataframe tbody tr th:only-of-type {\n",
       "        vertical-align: middle;\n",
       "    }\n",
       "\n",
       "    .dataframe tbody tr th {\n",
       "        vertical-align: top;\n",
       "    }\n",
       "\n",
       "    .dataframe thead th {\n",
       "        text-align: right;\n",
       "    }\n",
       "</style>\n",
       "<table border=\"1\" class=\"dataframe\">\n",
       "  <thead>\n",
       "    <tr style=\"text-align: right;\">\n",
       "      <th></th>\n",
       "      <th>Column Name</th>\n",
       "      <th>Number of Null Values</th>\n",
       "      <th>Percentage of Null Values</th>\n",
       "    </tr>\n",
       "  </thead>\n",
       "  <tbody>\n",
       "    <tr>\n",
       "      <th>0</th>\n",
       "      <td>User_ID</td>\n",
       "      <td>0</td>\n",
       "      <td>0.000000</td>\n",
       "    </tr>\n",
       "    <tr>\n",
       "      <th>1</th>\n",
       "      <td>Product_ID</td>\n",
       "      <td>0</td>\n",
       "      <td>0.000000</td>\n",
       "    </tr>\n",
       "    <tr>\n",
       "      <th>2</th>\n",
       "      <td>Gender</td>\n",
       "      <td>0</td>\n",
       "      <td>0.000000</td>\n",
       "    </tr>\n",
       "    <tr>\n",
       "      <th>3</th>\n",
       "      <td>Age</td>\n",
       "      <td>0</td>\n",
       "      <td>0.000000</td>\n",
       "    </tr>\n",
       "    <tr>\n",
       "      <th>4</th>\n",
       "      <td>Occupation</td>\n",
       "      <td>0</td>\n",
       "      <td>0.000000</td>\n",
       "    </tr>\n",
       "    <tr>\n",
       "      <th>5</th>\n",
       "      <td>City_Category</td>\n",
       "      <td>0</td>\n",
       "      <td>0.000000</td>\n",
       "    </tr>\n",
       "    <tr>\n",
       "      <th>6</th>\n",
       "      <td>Stay_In_Current_City_Years</td>\n",
       "      <td>0</td>\n",
       "      <td>0.000000</td>\n",
       "    </tr>\n",
       "    <tr>\n",
       "      <th>7</th>\n",
       "      <td>Marital_Status</td>\n",
       "      <td>0</td>\n",
       "      <td>0.000000</td>\n",
       "    </tr>\n",
       "    <tr>\n",
       "      <th>8</th>\n",
       "      <td>Product_Category_1</td>\n",
       "      <td>0</td>\n",
       "      <td>0.000000</td>\n",
       "    </tr>\n",
       "    <tr>\n",
       "      <th>9</th>\n",
       "      <td>Product_Category_2</td>\n",
       "      <td>166986</td>\n",
       "      <td>31.062713</td>\n",
       "    </tr>\n",
       "    <tr>\n",
       "      <th>10</th>\n",
       "      <td>Product_Category_3</td>\n",
       "      <td>373299</td>\n",
       "      <td>69.441029</td>\n",
       "    </tr>\n",
       "    <tr>\n",
       "      <th>11</th>\n",
       "      <td>Purchase</td>\n",
       "      <td>0</td>\n",
       "      <td>0.000000</td>\n",
       "    </tr>\n",
       "  </tbody>\n",
       "</table>\n",
       "</div>"
      ],
      "text/plain": [
       "                   Column Name  Number of Null Values  \\\n",
       "0                      User_ID                      0   \n",
       "1                   Product_ID                      0   \n",
       "2                       Gender                      0   \n",
       "3                          Age                      0   \n",
       "4                   Occupation                      0   \n",
       "5                City_Category                      0   \n",
       "6   Stay_In_Current_City_Years                      0   \n",
       "7               Marital_Status                      0   \n",
       "8           Product_Category_1                      0   \n",
       "9           Product_Category_2                 166986   \n",
       "10          Product_Category_3                 373299   \n",
       "11                    Purchase                      0   \n",
       "\n",
       "    Percentage of Null Values  \n",
       "0                    0.000000  \n",
       "1                    0.000000  \n",
       "2                    0.000000  \n",
       "3                    0.000000  \n",
       "4                    0.000000  \n",
       "5                    0.000000  \n",
       "6                    0.000000  \n",
       "7                    0.000000  \n",
       "8                    0.000000  \n",
       "9                   31.062713  \n",
       "10                  69.441029  \n",
       "11                   0.000000  "
      ]
     },
     "execution_count": 6,
     "metadata": {},
     "output_type": "execute_result"
    }
   ],
   "source": [
    "# Let us check the Number of Null values and it's Percentage .\n",
    "temp_df = df.isnull().sum().reset_index()\n",
    "temp_df['Percentage of Null Values'] = temp_df[0]/len(df)*100\n",
    "temp_df.columns = ['Column Name', 'Number of Null Values','Percentage of Null Values']\n",
    "temp_df"
   ]
  },
  {
   "cell_type": "markdown",
   "metadata": {},
   "source": [
    "* As there are 70% Null values in coulmn name Product_Category_3.\n",
    "* So we will remove this column from our dataset.\n",
    "* And Null values in column Product_Category_2, we will replaced it by mode of the column."
   ]
  },
  {
   "cell_type": "code",
   "execution_count": 7,
   "metadata": {},
   "outputs": [],
   "source": [
    "# Removing Product_Category_3 column\n",
    "df.drop(labels='Product_Category_3', axis=1, inplace=True)"
   ]
  },
  {
   "cell_type": "code",
   "execution_count": 8,
   "metadata": {},
   "outputs": [
    {
     "data": {
      "application/vnd.plotly.v1+json": {
       "config": {
        "linkText": "Export to plot.ly",
        "plotlyServerURL": "https://plot.ly",
        "showLink": true
       },
       "data": [
        {
         "marker": {
          "color": "rgba(0, 191, 255, 0.6)",
          "line": {
           "color": "rgba(0, 191, 255, 1.0)",
           "width": 1
          }
         },
         "name": "Product_Category_2",
         "orientation": "v",
         "text": "",
         "type": "bar",
         "uid": "266a8166-c4fb-4d94-9d43-a68e8c10f19d",
         "x": [
          8,
          14,
          2,
          16,
          15,
          5,
          4,
          6,
          11,
          17,
          13,
          9,
          12,
          10,
          3,
          18,
          7
         ],
         "y": [
          63058,
          54158,
          48481,
          42602,
          37317,
          25874,
          25225,
          16251,
          13945,
          13130,
          10369,
          5591,
          5419,
          2991,
          2835,
          2730,
          615
         ]
        }
       ],
       "layout": {
        "legend": {
         "bgcolor": "#F5F6F9",
         "font": {
          "color": "#4D5663"
         }
        },
        "paper_bgcolor": "#F5F6F9",
        "plot_bgcolor": "#F5F6F9",
        "title": {
         "font": {
          "color": "#4D5663"
         },
         "text": "Frequency of values in Product_Category_2 Column"
        },
        "xaxis": {
         "gridcolor": "#E1E5ED",
         "showgrid": true,
         "tickfont": {
          "color": "#4D5663"
         },
         "title": {
          "font": {
           "color": "#4D5663"
          },
          "text": "Product Category"
         },
         "zerolinecolor": "#E1E5ED"
        },
        "yaxis": {
         "gridcolor": "#E1E5ED",
         "showgrid": true,
         "tickfont": {
          "color": "#4D5663"
         },
         "title": {
          "font": {
           "color": "#4D5663"
          },
          "text": "Frequency"
         },
         "zerolinecolor": "#E1E5ED"
        }
       }
      },
      "text/html": [
       "<div id=\"cd01500d-ec78-4d1a-a972-309f4a8d7cc7\" style=\"height: 525px; width: 100%;\" class=\"plotly-graph-div\"></div><script type=\"text/javascript\">require([\"plotly\"], function(Plotly) { window.PLOTLYENV=window.PLOTLYENV || {};window.PLOTLYENV.BASE_URL=\"https://plot.ly\";\n",
       "if (document.getElementById(\"cd01500d-ec78-4d1a-a972-309f4a8d7cc7\")) {\n",
       "    Plotly.newPlot(\"cd01500d-ec78-4d1a-a972-309f4a8d7cc7\", [{\"marker\": {\"color\": \"rgba(0, 191, 255, 0.6)\", \"line\": {\"color\": \"rgba(0, 191, 255, 1.0)\", \"width\": 1}}, \"name\": \"Product_Category_2\", \"orientation\": \"v\", \"text\": \"\", \"x\": [8.0, 14.0, 2.0, 16.0, 15.0, 5.0, 4.0, 6.0, 11.0, 17.0, 13.0, 9.0, 12.0, 10.0, 3.0, 18.0, 7.0], \"y\": [63058, 54158, 48481, 42602, 37317, 25874, 25225, 16251, 13945, 13130, 10369, 5591, 5419, 2991, 2835, 2730, 615], \"type\": \"bar\", \"uid\": \"00d59eeb-09ff-4b70-8f52-ae19f63f586a\"}], {\"legend\": {\"bgcolor\": \"#F5F6F9\", \"font\": {\"color\": \"#4D5663\"}}, \"paper_bgcolor\": \"#F5F6F9\", \"plot_bgcolor\": \"#F5F6F9\", \"title\": {\"text\": \"Frequency of values in Product_Category_2 Column\", \"font\": {\"color\": \"#4D5663\"}}, \"xaxis\": {\"gridcolor\": \"#E1E5ED\", \"showgrid\": true, \"tickfont\": {\"color\": \"#4D5663\"}, \"title\": {\"text\": \"Product Category\", \"font\": {\"color\": \"#4D5663\"}}, \"zerolinecolor\": \"#E1E5ED\"}, \"yaxis\": {\"gridcolor\": \"#E1E5ED\", \"showgrid\": true, \"tickfont\": {\"color\": \"#4D5663\"}, \"title\": {\"text\": \"Frequency\", \"font\": {\"color\": \"#4D5663\"}}, \"zerolinecolor\": \"#E1E5ED\"}}, {\"showLink\": true, \"linkText\": \"Export to plot.ly\", \"plotlyServerURL\": \"https://plot.ly\"}); \n",
       "}\n",
       "});</script><script type=\"text/javascript\">window.addEventListener(\"resize\", function(){if (document.getElementById(\"cd01500d-ec78-4d1a-a972-309f4a8d7cc7\")) {window._Plotly.Plots.resize(document.getElementById(\"cd01500d-ec78-4d1a-a972-309f4a8d7cc7\"));};})</script>"
      ],
      "text/vnd.plotly.v1+html": [
       "<div id=\"cd01500d-ec78-4d1a-a972-309f4a8d7cc7\" style=\"height: 525px; width: 100%;\" class=\"plotly-graph-div\"></div><script type=\"text/javascript\">require([\"plotly\"], function(Plotly) { window.PLOTLYENV=window.PLOTLYENV || {};window.PLOTLYENV.BASE_URL=\"https://plot.ly\";\n",
       "if (document.getElementById(\"cd01500d-ec78-4d1a-a972-309f4a8d7cc7\")) {\n",
       "    Plotly.newPlot(\"cd01500d-ec78-4d1a-a972-309f4a8d7cc7\", [{\"marker\": {\"color\": \"rgba(0, 191, 255, 0.6)\", \"line\": {\"color\": \"rgba(0, 191, 255, 1.0)\", \"width\": 1}}, \"name\": \"Product_Category_2\", \"orientation\": \"v\", \"text\": \"\", \"x\": [8.0, 14.0, 2.0, 16.0, 15.0, 5.0, 4.0, 6.0, 11.0, 17.0, 13.0, 9.0, 12.0, 10.0, 3.0, 18.0, 7.0], \"y\": [63058, 54158, 48481, 42602, 37317, 25874, 25225, 16251, 13945, 13130, 10369, 5591, 5419, 2991, 2835, 2730, 615], \"type\": \"bar\", \"uid\": \"00d59eeb-09ff-4b70-8f52-ae19f63f586a\"}], {\"legend\": {\"bgcolor\": \"#F5F6F9\", \"font\": {\"color\": \"#4D5663\"}}, \"paper_bgcolor\": \"#F5F6F9\", \"plot_bgcolor\": \"#F5F6F9\", \"title\": {\"text\": \"Frequency of values in Product_Category_2 Column\", \"font\": {\"color\": \"#4D5663\"}}, \"xaxis\": {\"gridcolor\": \"#E1E5ED\", \"showgrid\": true, \"tickfont\": {\"color\": \"#4D5663\"}, \"title\": {\"text\": \"Product Category\", \"font\": {\"color\": \"#4D5663\"}}, \"zerolinecolor\": \"#E1E5ED\"}, \"yaxis\": {\"gridcolor\": \"#E1E5ED\", \"showgrid\": true, \"tickfont\": {\"color\": \"#4D5663\"}, \"title\": {\"text\": \"Frequency\", \"font\": {\"color\": \"#4D5663\"}}, \"zerolinecolor\": \"#E1E5ED\"}}, {\"showLink\": true, \"linkText\": \"Export to plot.ly\", \"plotlyServerURL\": \"https://plot.ly\"}); \n",
       "}\n",
       "});</script><script type=\"text/javascript\">window.addEventListener(\"resize\", function(){if (document.getElementById(\"cd01500d-ec78-4d1a-a972-309f4a8d7cc7\")) {window._Plotly.Plots.resize(document.getElementById(\"cd01500d-ec78-4d1a-a972-309f4a8d7cc7\"));};})</script>"
      ]
     },
     "metadata": {},
     "output_type": "display_data"
    }
   ],
   "source": [
    "# Let us fill the Null values in Product_Categorical_2 column\n",
    "# First let us check the product which come maximum number of times in this column.\n",
    "new_df = df['Product_Category_2'].value_counts().reset_index()\n",
    "\n",
    "new_df.iplot(kind='bar', x='index',y='Product_Category_2', title='Frequency of values in Product_Category_2 Column',\n",
    "            xTitle='Product Category', yTitle='Frequency', color='deepskyblue')\n"
   ]
  },
  {
   "cell_type": "markdown",
   "metadata": {},
   "source": [
    "* Now we will fill  the Null values with 8.\n",
    "* One can also try not to fill the missing values."
   ]
  },
  {
   "cell_type": "code",
   "execution_count": 9,
   "metadata": {},
   "outputs": [
    {
     "data": {
      "text/plain": [
       "array([ 8.,  6., 14.,  2., 15., 16., 11.,  5.,  3.,  4., 12.,  9., 10.,\n",
       "       17., 13.,  7., 18.])"
      ]
     },
     "execution_count": 9,
     "metadata": {},
     "output_type": "execute_result"
    }
   ],
   "source": [
    "# Filling Null values.\n",
    "df['Product_Category_2'].fillna(value=8, inplace=True)\n",
    "df['Product_Category_2'].unique()"
   ]
  },
  {
   "cell_type": "markdown",
   "metadata": {},
   "source": [
    "### ==========================================================================="
   ]
  },
  {
   "cell_type": "markdown",
   "metadata": {},
   "source": [
    "### 2). Ratio of Male and Female."
   ]
  },
  {
   "cell_type": "code",
   "execution_count": 10,
   "metadata": {
    "_kg_hide-input": false
   },
   "outputs": [
    {
     "data": {
      "application/vnd.plotly.v1+json": {
       "config": {
        "linkText": "Export to plot.ly",
        "plotlyServerURL": "https://plot.ly",
        "showLink": true
       },
       "data": [
        {
         "hole": 0.2,
         "labels": [
          "M",
          "F"
         ],
         "marker": {
          "colors": [
           "rgba(255, 153, 51, 1.0)",
           "rgba(55, 128, 191, 1.0)"
          ]
         },
         "name": "",
         "pull": 0.2,
         "type": "pie",
         "values": [
          405380,
          132197
         ]
        }
       ],
       "layout": {
        "legend": {
         "bgcolor": "#F5F6F9",
         "font": {
          "color": "#4D5663"
         }
        },
        "paper_bgcolor": "#F5F6F9",
        "plot_bgcolor": "#F5F6F9",
        "title": "Ratio of Male and Female",
        "titlefont": {
         "color": "#4D5663"
        }
       }
      },
      "text/html": [
       "<div id=\"becc6de1-1724-4834-9873-3a1cea5998ba\" style=\"height: 525px; width: 100%;\" class=\"plotly-graph-div\"></div><script type=\"text/javascript\">require([\"plotly\"], function(Plotly) { window.PLOTLYENV=window.PLOTLYENV || {};window.PLOTLYENV.BASE_URL=\"https://plot.ly\";\n",
       "if (document.getElementById(\"becc6de1-1724-4834-9873-3a1cea5998ba\")) {\n",
       "    Plotly.newPlot(\"becc6de1-1724-4834-9873-3a1cea5998ba\", [{\"hole\": 0.2, \"labels\": [\"M\", \"F\"], \"marker\": {\"colors\": [\"rgba(255, 153, 51, 1.0)\", \"rgba(55, 128, 191, 1.0)\"]}, \"name\": \"\", \"pull\": 0.2, \"values\": [405380, 132197], \"type\": \"pie\"}], {\"legend\": {\"bgcolor\": \"#F5F6F9\", \"font\": {\"color\": \"#4D5663\"}}, \"paper_bgcolor\": \"#F5F6F9\", \"plot_bgcolor\": \"#F5F6F9\", \"titlefont\": {\"color\": \"#4D5663\"}, \"title\": \"Ratio of Male and Female\"}, {\"showLink\": true, \"linkText\": \"Export to plot.ly\", \"plotlyServerURL\": \"https://plot.ly\"}); \n",
       "}\n",
       "});</script><script type=\"text/javascript\">window.addEventListener(\"resize\", function(){if (document.getElementById(\"becc6de1-1724-4834-9873-3a1cea5998ba\")) {window._Plotly.Plots.resize(document.getElementById(\"becc6de1-1724-4834-9873-3a1cea5998ba\"));};})</script>"
      ],
      "text/vnd.plotly.v1+html": [
       "<div id=\"becc6de1-1724-4834-9873-3a1cea5998ba\" style=\"height: 525px; width: 100%;\" class=\"plotly-graph-div\"></div><script type=\"text/javascript\">require([\"plotly\"], function(Plotly) { window.PLOTLYENV=window.PLOTLYENV || {};window.PLOTLYENV.BASE_URL=\"https://plot.ly\";\n",
       "if (document.getElementById(\"becc6de1-1724-4834-9873-3a1cea5998ba\")) {\n",
       "    Plotly.newPlot(\"becc6de1-1724-4834-9873-3a1cea5998ba\", [{\"hole\": 0.2, \"labels\": [\"M\", \"F\"], \"marker\": {\"colors\": [\"rgba(255, 153, 51, 1.0)\", \"rgba(55, 128, 191, 1.0)\"]}, \"name\": \"\", \"pull\": 0.2, \"values\": [405380, 132197], \"type\": \"pie\"}], {\"legend\": {\"bgcolor\": \"#F5F6F9\", \"font\": {\"color\": \"#4D5663\"}}, \"paper_bgcolor\": \"#F5F6F9\", \"plot_bgcolor\": \"#F5F6F9\", \"titlefont\": {\"color\": \"#4D5663\"}, \"title\": \"Ratio of Male and Female\"}, {\"showLink\": true, \"linkText\": \"Export to plot.ly\", \"plotlyServerURL\": \"https://plot.ly\"}); \n",
       "}\n",
       "});</script><script type=\"text/javascript\">window.addEventListener(\"resize\", function(){if (document.getElementById(\"becc6de1-1724-4834-9873-3a1cea5998ba\")) {window._Plotly.Plots.resize(document.getElementById(\"becc6de1-1724-4834-9873-3a1cea5998ba\"));};})</script>"
      ]
     },
     "metadata": {},
     "output_type": "display_data"
    }
   ],
   "source": [
    "gender = df['Gender'].value_counts().reset_index()\n",
    "gender.columns = ['Gender', 'Count']\n",
    "gender.iplot(kind='pie', labels='Gender', values='Count', hole=0.2, pull=0.2, title='Ratio of Male and Female')\n",
    "# Interactive plot with plotly."
   ]
  },
  {
   "cell_type": "markdown",
   "metadata": {},
   "source": [
    "* 75% are Male as compare to 25% Female.\n",
    "* Some Interesting Fact.\n",
    "* It indicates that maximum number of products are releted to male or male are under pressure from thier wife to go to shopping :p ."
   ]
  },
  {
   "cell_type": "markdown",
   "metadata": {},
   "source": [
    "### ======================================================================"
   ]
  },
  {
   "cell_type": "markdown",
   "metadata": {},
   "source": [
    "### 3). From which age group people belongs maximum."
   ]
  },
  {
   "cell_type": "code",
   "execution_count": 11,
   "metadata": {},
   "outputs": [
    {
     "data": {
      "application/vnd.plotly.v1+json": {
       "config": {
        "linkText": "Export to plot.ly",
        "plotlyServerURL": "https://plot.ly",
        "showLink": true
       },
       "data": [
        {
         "marker": {
          "color": "rgba(0, 191, 255, 0.6)",
          "line": {
           "color": "rgba(0, 191, 255, 1.0)",
           "width": 1
          }
         },
         "name": "Count",
         "orientation": "v",
         "text": "",
         "type": "bar",
         "uid": "4146a09f-b25c-4634-a09d-09aa15f6884f",
         "x": [
          "26-35",
          "36-45",
          "18-25",
          "46-50",
          "51-55",
          "55+",
          "0-17"
         ],
         "y": [
          214690,
          107499,
          97634,
          44526,
          37618,
          20903,
          14707
         ]
        }
       ],
       "layout": {
        "legend": {
         "bgcolor": "#F5F6F9",
         "font": {
          "color": "#4D5663"
         }
        },
        "paper_bgcolor": "#F5F6F9",
        "plot_bgcolor": "#F5F6F9",
        "title": {
         "font": {
          "color": "#4D5663"
         },
         "text": "Number of people belongs to different age group"
        },
        "xaxis": {
         "gridcolor": "#E1E5ED",
         "showgrid": true,
         "tickfont": {
          "color": "#4D5663"
         },
         "title": {
          "font": {
           "color": "#4D5663"
          },
          "text": "Age Group"
         },
         "zerolinecolor": "#E1E5ED"
        },
        "yaxis": {
         "gridcolor": "#E1E5ED",
         "showgrid": true,
         "tickfont": {
          "color": "#4D5663"
         },
         "title": {
          "font": {
           "color": "#4D5663"
          },
          "text": "Quantity"
         },
         "zerolinecolor": "#E1E5ED"
        }
       }
      },
      "text/html": [
       "<div id=\"8454fe38-fa4b-4643-bc5e-14f31781b94c\" style=\"height: 525px; width: 100%;\" class=\"plotly-graph-div\"></div><script type=\"text/javascript\">require([\"plotly\"], function(Plotly) { window.PLOTLYENV=window.PLOTLYENV || {};window.PLOTLYENV.BASE_URL=\"https://plot.ly\";\n",
       "if (document.getElementById(\"8454fe38-fa4b-4643-bc5e-14f31781b94c\")) {\n",
       "    Plotly.newPlot(\"8454fe38-fa4b-4643-bc5e-14f31781b94c\", [{\"marker\": {\"color\": \"rgba(0, 191, 255, 0.6)\", \"line\": {\"color\": \"rgba(0, 191, 255, 1.0)\", \"width\": 1}}, \"name\": \"Count\", \"orientation\": \"v\", \"text\": \"\", \"x\": [\"26-35\", \"36-45\", \"18-25\", \"46-50\", \"51-55\", \"55+\", \"0-17\"], \"y\": [214690, 107499, 97634, 44526, 37618, 20903, 14707], \"type\": \"bar\", \"uid\": \"6e54ee5b-27ae-4220-aaa0-56dcb6f84ed2\"}], {\"legend\": {\"bgcolor\": \"#F5F6F9\", \"font\": {\"color\": \"#4D5663\"}}, \"paper_bgcolor\": \"#F5F6F9\", \"plot_bgcolor\": \"#F5F6F9\", \"title\": {\"text\": \"Number of people belongs to different age group\", \"font\": {\"color\": \"#4D5663\"}}, \"xaxis\": {\"gridcolor\": \"#E1E5ED\", \"showgrid\": true, \"tickfont\": {\"color\": \"#4D5663\"}, \"title\": {\"text\": \"Age Group\", \"font\": {\"color\": \"#4D5663\"}}, \"zerolinecolor\": \"#E1E5ED\"}, \"yaxis\": {\"gridcolor\": \"#E1E5ED\", \"showgrid\": true, \"tickfont\": {\"color\": \"#4D5663\"}, \"title\": {\"text\": \"Quantity\", \"font\": {\"color\": \"#4D5663\"}}, \"zerolinecolor\": \"#E1E5ED\"}}, {\"showLink\": true, \"linkText\": \"Export to plot.ly\", \"plotlyServerURL\": \"https://plot.ly\"}); \n",
       "}\n",
       "});</script><script type=\"text/javascript\">window.addEventListener(\"resize\", function(){if (document.getElementById(\"8454fe38-fa4b-4643-bc5e-14f31781b94c\")) {window._Plotly.Plots.resize(document.getElementById(\"8454fe38-fa4b-4643-bc5e-14f31781b94c\"));};})</script>"
      ],
      "text/vnd.plotly.v1+html": [
       "<div id=\"8454fe38-fa4b-4643-bc5e-14f31781b94c\" style=\"height: 525px; width: 100%;\" class=\"plotly-graph-div\"></div><script type=\"text/javascript\">require([\"plotly\"], function(Plotly) { window.PLOTLYENV=window.PLOTLYENV || {};window.PLOTLYENV.BASE_URL=\"https://plot.ly\";\n",
       "if (document.getElementById(\"8454fe38-fa4b-4643-bc5e-14f31781b94c\")) {\n",
       "    Plotly.newPlot(\"8454fe38-fa4b-4643-bc5e-14f31781b94c\", [{\"marker\": {\"color\": \"rgba(0, 191, 255, 0.6)\", \"line\": {\"color\": \"rgba(0, 191, 255, 1.0)\", \"width\": 1}}, \"name\": \"Count\", \"orientation\": \"v\", \"text\": \"\", \"x\": [\"26-35\", \"36-45\", \"18-25\", \"46-50\", \"51-55\", \"55+\", \"0-17\"], \"y\": [214690, 107499, 97634, 44526, 37618, 20903, 14707], \"type\": \"bar\", \"uid\": \"6e54ee5b-27ae-4220-aaa0-56dcb6f84ed2\"}], {\"legend\": {\"bgcolor\": \"#F5F6F9\", \"font\": {\"color\": \"#4D5663\"}}, \"paper_bgcolor\": \"#F5F6F9\", \"plot_bgcolor\": \"#F5F6F9\", \"title\": {\"text\": \"Number of people belongs to different age group\", \"font\": {\"color\": \"#4D5663\"}}, \"xaxis\": {\"gridcolor\": \"#E1E5ED\", \"showgrid\": true, \"tickfont\": {\"color\": \"#4D5663\"}, \"title\": {\"text\": \"Age Group\", \"font\": {\"color\": \"#4D5663\"}}, \"zerolinecolor\": \"#E1E5ED\"}, \"yaxis\": {\"gridcolor\": \"#E1E5ED\", \"showgrid\": true, \"tickfont\": {\"color\": \"#4D5663\"}, \"title\": {\"text\": \"Quantity\", \"font\": {\"color\": \"#4D5663\"}}, \"zerolinecolor\": \"#E1E5ED\"}}, {\"showLink\": true, \"linkText\": \"Export to plot.ly\", \"plotlyServerURL\": \"https://plot.ly\"}); \n",
       "}\n",
       "});</script><script type=\"text/javascript\">window.addEventListener(\"resize\", function(){if (document.getElementById(\"8454fe38-fa4b-4643-bc5e-14f31781b94c\")) {window._Plotly.Plots.resize(document.getElementById(\"8454fe38-fa4b-4643-bc5e-14f31781b94c\"));};})</script>"
      ]
     },
     "metadata": {},
     "output_type": "display_data"
    }
   ],
   "source": [
    "age = df['Age'].value_counts().reset_index()\n",
    "age.columns = ['Age Group', 'Count']\n",
    "age.iplot(kind='bar', x='Age Group', y='Count', title='Number of people belongs to different age group',\n",
    "         xTitle='Age Group', yTitle='Quantity', color='deepskyblue')"
   ]
  },
  {
   "cell_type": "markdown",
   "metadata": {},
   "source": [
    "#### Observation:-\n",
    "* Maximum Number of people are from the Age group of 26-35.\n",
    "* Young population is maximum.\n",
    "* Children are in less number (0-17 age group).\n",
    "* Old people are also there (55+ age group)."
   ]
  },
  {
   "cell_type": "markdown",
   "metadata": {},
   "source": [
    "### ============================================================================="
   ]
  },
  {
   "cell_type": "markdown",
   "metadata": {},
   "source": [
    "### 4). Let us first remove the unwanted columns.\n"
   ]
  },
  {
   "cell_type": "code",
   "execution_count": 12,
   "metadata": {},
   "outputs": [
    {
     "data": {
      "text/html": [
       "<div>\n",
       "<style scoped>\n",
       "    .dataframe tbody tr th:only-of-type {\n",
       "        vertical-align: middle;\n",
       "    }\n",
       "\n",
       "    .dataframe tbody tr th {\n",
       "        vertical-align: top;\n",
       "    }\n",
       "\n",
       "    .dataframe thead th {\n",
       "        text-align: right;\n",
       "    }\n",
       "</style>\n",
       "<table border=\"1\" class=\"dataframe\">\n",
       "  <thead>\n",
       "    <tr style=\"text-align: right;\">\n",
       "      <th></th>\n",
       "      <th>Gender</th>\n",
       "      <th>Age</th>\n",
       "      <th>Occupation</th>\n",
       "      <th>City_Category</th>\n",
       "      <th>Stay_In_Current_City_Years</th>\n",
       "      <th>Marital_Status</th>\n",
       "      <th>Product_Category_1</th>\n",
       "      <th>Product_Category_2</th>\n",
       "      <th>Purchase</th>\n",
       "    </tr>\n",
       "  </thead>\n",
       "  <tbody>\n",
       "    <tr>\n",
       "      <th>0</th>\n",
       "      <td>F</td>\n",
       "      <td>0-17</td>\n",
       "      <td>10</td>\n",
       "      <td>A</td>\n",
       "      <td>2</td>\n",
       "      <td>0</td>\n",
       "      <td>3</td>\n",
       "      <td>8.0</td>\n",
       "      <td>8370</td>\n",
       "    </tr>\n",
       "    <tr>\n",
       "      <th>1</th>\n",
       "      <td>F</td>\n",
       "      <td>0-17</td>\n",
       "      <td>10</td>\n",
       "      <td>A</td>\n",
       "      <td>2</td>\n",
       "      <td>0</td>\n",
       "      <td>1</td>\n",
       "      <td>6.0</td>\n",
       "      <td>15200</td>\n",
       "    </tr>\n",
       "    <tr>\n",
       "      <th>2</th>\n",
       "      <td>F</td>\n",
       "      <td>0-17</td>\n",
       "      <td>10</td>\n",
       "      <td>A</td>\n",
       "      <td>2</td>\n",
       "      <td>0</td>\n",
       "      <td>12</td>\n",
       "      <td>8.0</td>\n",
       "      <td>1422</td>\n",
       "    </tr>\n",
       "    <tr>\n",
       "      <th>3</th>\n",
       "      <td>F</td>\n",
       "      <td>0-17</td>\n",
       "      <td>10</td>\n",
       "      <td>A</td>\n",
       "      <td>2</td>\n",
       "      <td>0</td>\n",
       "      <td>12</td>\n",
       "      <td>14.0</td>\n",
       "      <td>1057</td>\n",
       "    </tr>\n",
       "    <tr>\n",
       "      <th>4</th>\n",
       "      <td>M</td>\n",
       "      <td>55+</td>\n",
       "      <td>16</td>\n",
       "      <td>C</td>\n",
       "      <td>4+</td>\n",
       "      <td>0</td>\n",
       "      <td>8</td>\n",
       "      <td>8.0</td>\n",
       "      <td>7969</td>\n",
       "    </tr>\n",
       "  </tbody>\n",
       "</table>\n",
       "</div>"
      ],
      "text/plain": [
       "  Gender   Age  Occupation City_Category Stay_In_Current_City_Years  \\\n",
       "0      F  0-17          10             A                          2   \n",
       "1      F  0-17          10             A                          2   \n",
       "2      F  0-17          10             A                          2   \n",
       "3      F  0-17          10             A                          2   \n",
       "4      M   55+          16             C                         4+   \n",
       "\n",
       "   Marital_Status  Product_Category_1  Product_Category_2  Purchase  \n",
       "0               0                   3                 8.0      8370  \n",
       "1               0                   1                 6.0     15200  \n",
       "2               0                  12                 8.0      1422  \n",
       "3               0                  12                14.0      1057  \n",
       "4               0                   8                 8.0      7969  "
      ]
     },
     "execution_count": 12,
     "metadata": {},
     "output_type": "execute_result"
    }
   ],
   "source": [
    "try:\n",
    "    df.drop(labels=['User_ID', 'Product_ID'], inplace=True, axis=1,)\n",
    "except Exception as e: \n",
    "    print(\"Run from start again.\")\n",
    "df.head()"
   ]
  },
  {
   "cell_type": "markdown",
   "metadata": {},
   "source": [
    "### ======================================================================="
   ]
  },
  {
   "cell_type": "markdown",
   "metadata": {},
   "source": [
    "### 5). Ratio of City Category."
   ]
  },
  {
   "cell_type": "code",
   "execution_count": 13,
   "metadata": {},
   "outputs": [
    {
     "data": {
      "application/vnd.plotly.v1+json": {
       "config": {
        "linkText": "Export to plot.ly",
        "plotlyServerURL": "https://plot.ly",
        "showLink": true
       },
       "data": [
        {
         "hole": 0.2,
         "labels": [
          "B",
          "C",
          "A"
         ],
         "marker": {
          "colors": [
           "rgba(255, 153, 51, 1.0)",
           "rgba(55, 128, 191, 1.0)",
           "rgba(50, 171, 96, 1.0)"
          ]
         },
         "name": "",
         "pull": 0.2,
         "type": "pie",
         "values": [
          226493,
          166446,
          144638
         ]
        }
       ],
       "layout": {
        "legend": {
         "bgcolor": "#F5F6F9",
         "font": {
          "color": "#4D5663"
         }
        },
        "paper_bgcolor": "#F5F6F9",
        "plot_bgcolor": "#F5F6F9",
        "title": "Percentage of People belongs to different City Category",
        "titlefont": {
         "color": "#4D5663"
        }
       }
      },
      "text/html": [
       "<div id=\"a55c750d-90f4-4298-aaa6-0f4bc4f6d637\" style=\"height: 525px; width: 100%;\" class=\"plotly-graph-div\"></div><script type=\"text/javascript\">require([\"plotly\"], function(Plotly) { window.PLOTLYENV=window.PLOTLYENV || {};window.PLOTLYENV.BASE_URL=\"https://plot.ly\";\n",
       "if (document.getElementById(\"a55c750d-90f4-4298-aaa6-0f4bc4f6d637\")) {\n",
       "    Plotly.newPlot(\"a55c750d-90f4-4298-aaa6-0f4bc4f6d637\", [{\"hole\": 0.2, \"labels\": [\"B\", \"C\", \"A\"], \"marker\": {\"colors\": [\"rgba(255, 153, 51, 1.0)\", \"rgba(55, 128, 191, 1.0)\", \"rgba(50, 171, 96, 1.0)\"]}, \"name\": \"\", \"pull\": 0.2, \"values\": [226493, 166446, 144638], \"type\": \"pie\"}], {\"legend\": {\"bgcolor\": \"#F5F6F9\", \"font\": {\"color\": \"#4D5663\"}}, \"paper_bgcolor\": \"#F5F6F9\", \"plot_bgcolor\": \"#F5F6F9\", \"titlefont\": {\"color\": \"#4D5663\"}, \"title\": \"Percentage of People belongs to different City Category\"}, {\"showLink\": true, \"linkText\": \"Export to plot.ly\", \"plotlyServerURL\": \"https://plot.ly\"}); \n",
       "}\n",
       "});</script><script type=\"text/javascript\">window.addEventListener(\"resize\", function(){if (document.getElementById(\"a55c750d-90f4-4298-aaa6-0f4bc4f6d637\")) {window._Plotly.Plots.resize(document.getElementById(\"a55c750d-90f4-4298-aaa6-0f4bc4f6d637\"));};})</script>"
      ],
      "text/vnd.plotly.v1+html": [
       "<div id=\"a55c750d-90f4-4298-aaa6-0f4bc4f6d637\" style=\"height: 525px; width: 100%;\" class=\"plotly-graph-div\"></div><script type=\"text/javascript\">require([\"plotly\"], function(Plotly) { window.PLOTLYENV=window.PLOTLYENV || {};window.PLOTLYENV.BASE_URL=\"https://plot.ly\";\n",
       "if (document.getElementById(\"a55c750d-90f4-4298-aaa6-0f4bc4f6d637\")) {\n",
       "    Plotly.newPlot(\"a55c750d-90f4-4298-aaa6-0f4bc4f6d637\", [{\"hole\": 0.2, \"labels\": [\"B\", \"C\", \"A\"], \"marker\": {\"colors\": [\"rgba(255, 153, 51, 1.0)\", \"rgba(55, 128, 191, 1.0)\", \"rgba(50, 171, 96, 1.0)\"]}, \"name\": \"\", \"pull\": 0.2, \"values\": [226493, 166446, 144638], \"type\": \"pie\"}], {\"legend\": {\"bgcolor\": \"#F5F6F9\", \"font\": {\"color\": \"#4D5663\"}}, \"paper_bgcolor\": \"#F5F6F9\", \"plot_bgcolor\": \"#F5F6F9\", \"titlefont\": {\"color\": \"#4D5663\"}, \"title\": \"Percentage of People belongs to different City Category\"}, {\"showLink\": true, \"linkText\": \"Export to plot.ly\", \"plotlyServerURL\": \"https://plot.ly\"}); \n",
       "}\n",
       "});</script><script type=\"text/javascript\">window.addEventListener(\"resize\", function(){if (document.getElementById(\"a55c750d-90f4-4298-aaa6-0f4bc4f6d637\")) {window._Plotly.Plots.resize(document.getElementById(\"a55c750d-90f4-4298-aaa6-0f4bc4f6d637\"));};})</script>"
      ]
     },
     "metadata": {},
     "output_type": "display_data"
    }
   ],
   "source": [
    "city = df['City_Category'].value_counts().reset_index()\n",
    "city.iplot(kind='pie', labels='index', values='City_Category', hole=0.2, pull=0.2,\n",
    "          title='Percentage of People belongs to different City Category')"
   ]
  },
  {
   "cell_type": "markdown",
   "metadata": {},
   "source": [
    "* Approximately equal number of people are there from city A,B and C.\n",
    "* But from these all B city contains the maximum number of people."
   ]
  },
  {
   "cell_type": "markdown",
   "metadata": {},
   "source": [
    "### =========================================================================="
   ]
  },
  {
   "cell_type": "markdown",
   "metadata": {},
   "source": [
    "### 6). Let us see the total purchase amount of Male and Female."
   ]
  },
  {
   "cell_type": "code",
   "execution_count": 14,
   "metadata": {},
   "outputs": [
    {
     "data": {
      "application/vnd.plotly.v1+json": {
       "config": {
        "linkText": "Export to plot.ly",
        "plotlyServerURL": "https://plot.ly",
        "showLink": true
       },
       "data": [
        {
         "marker": {
          "color": "rgba(255, 153, 51, 0.6)",
          "line": {
           "color": "rgba(255, 153, 51, 1.0)",
           "width": 1
          }
         },
         "name": "Purchase",
         "orientation": "v",
         "text": "",
         "type": "bar",
         "uid": "c9f2baa0-806b-4372-b426-d79ea2ddcd80",
         "x": [
          "F",
          "M"
         ],
         "y": [
          1164624021,
          3853044357
         ]
        }
       ],
       "layout": {
        "legend": {
         "bgcolor": "#F5F6F9",
         "font": {
          "color": "#4D5663"
         }
        },
        "paper_bgcolor": "#F5F6F9",
        "plot_bgcolor": "#F5F6F9",
        "title": {
         "font": {
          "color": "#4D5663"
         },
         "text": "Total Purchase amount of Male and Female"
        },
        "xaxis": {
         "gridcolor": "#E1E5ED",
         "showgrid": true,
         "tickfont": {
          "color": "#4D5663"
         },
         "title": {
          "font": {
           "color": "#4D5663"
          },
          "text": "Gender"
         },
         "zerolinecolor": "#E1E5ED"
        },
        "yaxis": {
         "gridcolor": "#E1E5ED",
         "showgrid": true,
         "tickfont": {
          "color": "#4D5663"
         },
         "title": {
          "font": {
           "color": "#4D5663"
          },
          "text": "Total Purchase Amount"
         },
         "zerolinecolor": "#E1E5ED"
        }
       }
      },
      "text/html": [
       "<div id=\"33926720-3578-4fe3-935e-b08a5482394f\" style=\"height: 525px; width: 100%;\" class=\"plotly-graph-div\"></div><script type=\"text/javascript\">require([\"plotly\"], function(Plotly) { window.PLOTLYENV=window.PLOTLYENV || {};window.PLOTLYENV.BASE_URL=\"https://plot.ly\";\n",
       "if (document.getElementById(\"33926720-3578-4fe3-935e-b08a5482394f\")) {\n",
       "    Plotly.newPlot(\"33926720-3578-4fe3-935e-b08a5482394f\", [{\"marker\": {\"color\": \"rgba(255, 153, 51, 0.6)\", \"line\": {\"color\": \"rgba(255, 153, 51, 1.0)\", \"width\": 1}}, \"name\": \"Purchase\", \"orientation\": \"v\", \"text\": \"\", \"x\": [\"F\", \"M\"], \"y\": [1164624021, 3853044357], \"type\": \"bar\", \"uid\": \"579fd7cb-27f8-48be-9c0c-d39df2706dfb\"}], {\"legend\": {\"bgcolor\": \"#F5F6F9\", \"font\": {\"color\": \"#4D5663\"}}, \"paper_bgcolor\": \"#F5F6F9\", \"plot_bgcolor\": \"#F5F6F9\", \"title\": {\"text\": \"Total Purchase amount of Male and Female\", \"font\": {\"color\": \"#4D5663\"}}, \"xaxis\": {\"gridcolor\": \"#E1E5ED\", \"showgrid\": true, \"tickfont\": {\"color\": \"#4D5663\"}, \"title\": {\"text\": \"Gender\", \"font\": {\"color\": \"#4D5663\"}}, \"zerolinecolor\": \"#E1E5ED\"}, \"yaxis\": {\"gridcolor\": \"#E1E5ED\", \"showgrid\": true, \"tickfont\": {\"color\": \"#4D5663\"}, \"title\": {\"text\": \"Total Purchase Amount\", \"font\": {\"color\": \"#4D5663\"}}, \"zerolinecolor\": \"#E1E5ED\"}}, {\"showLink\": true, \"linkText\": \"Export to plot.ly\", \"plotlyServerURL\": \"https://plot.ly\"}); \n",
       "}\n",
       "});</script><script type=\"text/javascript\">window.addEventListener(\"resize\", function(){if (document.getElementById(\"33926720-3578-4fe3-935e-b08a5482394f\")) {window._Plotly.Plots.resize(document.getElementById(\"33926720-3578-4fe3-935e-b08a5482394f\"));};})</script>"
      ],
      "text/vnd.plotly.v1+html": [
       "<div id=\"33926720-3578-4fe3-935e-b08a5482394f\" style=\"height: 525px; width: 100%;\" class=\"plotly-graph-div\"></div><script type=\"text/javascript\">require([\"plotly\"], function(Plotly) { window.PLOTLYENV=window.PLOTLYENV || {};window.PLOTLYENV.BASE_URL=\"https://plot.ly\";\n",
       "if (document.getElementById(\"33926720-3578-4fe3-935e-b08a5482394f\")) {\n",
       "    Plotly.newPlot(\"33926720-3578-4fe3-935e-b08a5482394f\", [{\"marker\": {\"color\": \"rgba(255, 153, 51, 0.6)\", \"line\": {\"color\": \"rgba(255, 153, 51, 1.0)\", \"width\": 1}}, \"name\": \"Purchase\", \"orientation\": \"v\", \"text\": \"\", \"x\": [\"F\", \"M\"], \"y\": [1164624021, 3853044357], \"type\": \"bar\", \"uid\": \"579fd7cb-27f8-48be-9c0c-d39df2706dfb\"}], {\"legend\": {\"bgcolor\": \"#F5F6F9\", \"font\": {\"color\": \"#4D5663\"}}, \"paper_bgcolor\": \"#F5F6F9\", \"plot_bgcolor\": \"#F5F6F9\", \"title\": {\"text\": \"Total Purchase amount of Male and Female\", \"font\": {\"color\": \"#4D5663\"}}, \"xaxis\": {\"gridcolor\": \"#E1E5ED\", \"showgrid\": true, \"tickfont\": {\"color\": \"#4D5663\"}, \"title\": {\"text\": \"Gender\", \"font\": {\"color\": \"#4D5663\"}}, \"zerolinecolor\": \"#E1E5ED\"}, \"yaxis\": {\"gridcolor\": \"#E1E5ED\", \"showgrid\": true, \"tickfont\": {\"color\": \"#4D5663\"}, \"title\": {\"text\": \"Total Purchase Amount\", \"font\": {\"color\": \"#4D5663\"}}, \"zerolinecolor\": \"#E1E5ED\"}}, {\"showLink\": true, \"linkText\": \"Export to plot.ly\", \"plotlyServerURL\": \"https://plot.ly\"}); \n",
       "}\n",
       "});</script><script type=\"text/javascript\">window.addEventListener(\"resize\", function(){if (document.getElementById(\"33926720-3578-4fe3-935e-b08a5482394f\")) {window._Plotly.Plots.resize(document.getElementById(\"33926720-3578-4fe3-935e-b08a5482394f\"));};})</script>"
      ]
     },
     "metadata": {},
     "output_type": "display_data"
    }
   ],
   "source": [
    "temp_df = df.groupby('Gender', axis=0)['Purchase'].sum().reset_index()\n",
    "temp_df.iplot(kind='bar', x='Gender', y='Purchase', title='Total Purchase amount of Male and Female',\n",
    "             xTitle='Gender', yTitle='Total Purchase Amount', color='orange')\n"
   ]
  },
  {
   "cell_type": "markdown",
   "metadata": {},
   "source": [
    "* As expected male have more total purchase amount than female due to large number of male as compare to female.\n",
    "* Color orange indicates gender equality."
   ]
  },
  {
   "cell_type": "markdown",
   "metadata": {},
   "source": [
    "### ======================================================================="
   ]
  },
  {
   "cell_type": "markdown",
   "metadata": {},
   "source": [
    "### 7). Ratio of married and non married poplutions."
   ]
  },
  {
   "cell_type": "code",
   "execution_count": 15,
   "metadata": {},
   "outputs": [
    {
     "data": {
      "application/vnd.plotly.v1+json": {
       "config": {
        "linkText": "Export to plot.ly",
        "plotlyServerURL": "https://plot.ly",
        "showLink": true
       },
       "data": [
        {
         "hole": 0.2,
         "labels": [
          "Non Married",
          "Married"
         ],
         "marker": {
          "colors": [
           "rgba(255, 153, 51, 1.0)",
           "rgba(55, 128, 191, 1.0)"
          ]
         },
         "name": "",
         "pull": 0.2,
         "type": "pie",
         "values": [
          317817,
          219760
         ]
        }
       ],
       "layout": {
        "legend": {
         "bgcolor": "#F5F6F9",
         "font": {
          "color": "#4D5663"
         }
        },
        "paper_bgcolor": "#F5F6F9",
        "plot_bgcolor": "#F5F6F9",
        "title": "Ratio of Married people and Non Married people",
        "titlefont": {
         "color": "#4D5663"
        }
       }
      },
      "text/html": [
       "<div id=\"4d3d4046-7871-4f02-a6be-718ccf8506a0\" style=\"height: 525px; width: 100%;\" class=\"plotly-graph-div\"></div><script type=\"text/javascript\">require([\"plotly\"], function(Plotly) { window.PLOTLYENV=window.PLOTLYENV || {};window.PLOTLYENV.BASE_URL=\"https://plot.ly\";\n",
       "if (document.getElementById(\"4d3d4046-7871-4f02-a6be-718ccf8506a0\")) {\n",
       "    Plotly.newPlot(\"4d3d4046-7871-4f02-a6be-718ccf8506a0\", [{\"hole\": 0.2, \"labels\": [\"Non Married\", \"Married\"], \"marker\": {\"colors\": [\"rgba(255, 153, 51, 1.0)\", \"rgba(55, 128, 191, 1.0)\"]}, \"name\": \"\", \"pull\": 0.2, \"values\": [317817, 219760], \"type\": \"pie\"}], {\"legend\": {\"bgcolor\": \"#F5F6F9\", \"font\": {\"color\": \"#4D5663\"}}, \"paper_bgcolor\": \"#F5F6F9\", \"plot_bgcolor\": \"#F5F6F9\", \"titlefont\": {\"color\": \"#4D5663\"}, \"title\": \"Ratio of Married people and Non Married people\"}, {\"showLink\": true, \"linkText\": \"Export to plot.ly\", \"plotlyServerURL\": \"https://plot.ly\"}); \n",
       "}\n",
       "});</script><script type=\"text/javascript\">window.addEventListener(\"resize\", function(){if (document.getElementById(\"4d3d4046-7871-4f02-a6be-718ccf8506a0\")) {window._Plotly.Plots.resize(document.getElementById(\"4d3d4046-7871-4f02-a6be-718ccf8506a0\"));};})</script>"
      ],
      "text/vnd.plotly.v1+html": [
       "<div id=\"4d3d4046-7871-4f02-a6be-718ccf8506a0\" style=\"height: 525px; width: 100%;\" class=\"plotly-graph-div\"></div><script type=\"text/javascript\">require([\"plotly\"], function(Plotly) { window.PLOTLYENV=window.PLOTLYENV || {};window.PLOTLYENV.BASE_URL=\"https://plot.ly\";\n",
       "if (document.getElementById(\"4d3d4046-7871-4f02-a6be-718ccf8506a0\")) {\n",
       "    Plotly.newPlot(\"4d3d4046-7871-4f02-a6be-718ccf8506a0\", [{\"hole\": 0.2, \"labels\": [\"Non Married\", \"Married\"], \"marker\": {\"colors\": [\"rgba(255, 153, 51, 1.0)\", \"rgba(55, 128, 191, 1.0)\"]}, \"name\": \"\", \"pull\": 0.2, \"values\": [317817, 219760], \"type\": \"pie\"}], {\"legend\": {\"bgcolor\": \"#F5F6F9\", \"font\": {\"color\": \"#4D5663\"}}, \"paper_bgcolor\": \"#F5F6F9\", \"plot_bgcolor\": \"#F5F6F9\", \"titlefont\": {\"color\": \"#4D5663\"}, \"title\": \"Ratio of Married people and Non Married people\"}, {\"showLink\": true, \"linkText\": \"Export to plot.ly\", \"plotlyServerURL\": \"https://plot.ly\"}); \n",
       "}\n",
       "});</script><script type=\"text/javascript\">window.addEventListener(\"resize\", function(){if (document.getElementById(\"4d3d4046-7871-4f02-a6be-718ccf8506a0\")) {window._Plotly.Plots.resize(document.getElementById(\"4d3d4046-7871-4f02-a6be-718ccf8506a0\"));};})</script>"
      ]
     },
     "metadata": {},
     "output_type": "display_data"
    },
    {
     "data": {
      "text/html": [
       "<div>\n",
       "<style scoped>\n",
       "    .dataframe tbody tr th:only-of-type {\n",
       "        vertical-align: middle;\n",
       "    }\n",
       "\n",
       "    .dataframe tbody tr th {\n",
       "        vertical-align: top;\n",
       "    }\n",
       "\n",
       "    .dataframe thead th {\n",
       "        text-align: right;\n",
       "    }\n",
       "</style>\n",
       "<table border=\"1\" class=\"dataframe\">\n",
       "  <thead>\n",
       "    <tr style=\"text-align: right;\">\n",
       "      <th></th>\n",
       "      <th>0</th>\n",
       "      <th>1</th>\n",
       "    </tr>\n",
       "  </thead>\n",
       "  <tbody>\n",
       "    <tr>\n",
       "      <th>index</th>\n",
       "      <td>Non Married</td>\n",
       "      <td>Married</td>\n",
       "    </tr>\n",
       "    <tr>\n",
       "      <th>Marital_Status</th>\n",
       "      <td>317817</td>\n",
       "      <td>219760</td>\n",
       "    </tr>\n",
       "  </tbody>\n",
       "</table>\n",
       "</div>"
      ],
      "text/plain": [
       "                          0        1\n",
       "index           Non Married  Married\n",
       "Marital_Status       317817   219760"
      ]
     },
     "execution_count": 15,
     "metadata": {},
     "output_type": "execute_result"
    }
   ],
   "source": [
    "status = df['Marital_Status'].value_counts().reset_index()\n",
    "# Converting 0 and 1 into Married and Non Married in status DataFrame\n",
    "status['index'] = status['index'].apply(lambda x: 'Non Married' if x==0 else 'Married')\n",
    "\n",
    "status.iplot(kind='pie', labels='index', values='Marital_Status', hole=0.2, pull=0.2,\n",
    "          title='Ratio of Married people and Non Married people')\n",
    "status.T"
   ]
  },
  {
   "cell_type": "markdown",
   "metadata": {},
   "source": [
    "#### Observations:-\n",
    "* Non Married people come to maximum number of times to shoping.\n",
    "* Non Married people are 59% and Married people are 41%.\n",
    "* By this mall owner can increse the products which belongs to Non Married people.\n",
    "* In this way owner can increase his/her profit.\n",
    "* And the products which belongs to Non Married people, owner can place them near to entry gate or at a hot place of mall."
   ]
  },
  {
   "cell_type": "markdown",
   "metadata": {},
   "source": [
    "### ========================================================================"
   ]
  },
  {
   "cell_type": "markdown",
   "metadata": {},
   "source": [
    "### 8). Total purchase amount of Married and Non Married people."
   ]
  },
  {
   "cell_type": "code",
   "execution_count": 16,
   "metadata": {},
   "outputs": [
    {
     "data": {
      "application/vnd.plotly.v1+json": {
       "config": {
        "linkText": "Export to plot.ly",
        "plotlyServerURL": "https://plot.ly",
        "showLink": true
       },
       "data": [
        {
         "marker": {
          "color": "rgba(219, 64, 82, 0.6)",
          "line": {
           "color": "rgba(219, 64, 82, 1.0)",
           "width": 1
          }
         },
         "name": "Purchase",
         "orientation": "v",
         "text": "",
         "type": "bar",
         "uid": "51fef84e-7253-4286-a313-b5dd640d9c39",
         "x": [
          "Non Married",
          "Married"
         ],
         "y": [
          2966289500,
          2051378878
         ]
        }
       ],
       "layout": {
        "legend": {
         "bgcolor": "#F5F6F9",
         "font": {
          "color": "#4D5663"
         }
        },
        "paper_bgcolor": "#F5F6F9",
        "plot_bgcolor": "#F5F6F9",
        "title": {
         "font": {
          "color": "#4D5663"
         },
         "text": "Total Purchase amount of Male and Female"
        },
        "xaxis": {
         "gridcolor": "#E1E5ED",
         "showgrid": true,
         "tickfont": {
          "color": "#4D5663"
         },
         "title": {
          "font": {
           "color": "#4D5663"
          },
          "text": "Marital_Status"
         },
         "zerolinecolor": "#E1E5ED"
        },
        "yaxis": {
         "gridcolor": "#E1E5ED",
         "showgrid": true,
         "tickfont": {
          "color": "#4D5663"
         },
         "title": {
          "font": {
           "color": "#4D5663"
          },
          "text": "Total Purchase Amount"
         },
         "zerolinecolor": "#E1E5ED"
        }
       }
      },
      "text/html": [
       "<div id=\"178d4857-1010-4bb6-a73a-606a9d4589ee\" style=\"height: 525px; width: 100%;\" class=\"plotly-graph-div\"></div><script type=\"text/javascript\">require([\"plotly\"], function(Plotly) { window.PLOTLYENV=window.PLOTLYENV || {};window.PLOTLYENV.BASE_URL=\"https://plot.ly\";\n",
       "if (document.getElementById(\"178d4857-1010-4bb6-a73a-606a9d4589ee\")) {\n",
       "    Plotly.newPlot(\"178d4857-1010-4bb6-a73a-606a9d4589ee\", [{\"marker\": {\"color\": \"rgba(219, 64, 82, 0.6)\", \"line\": {\"color\": \"rgba(219, 64, 82, 1.0)\", \"width\": 1}}, \"name\": \"Purchase\", \"orientation\": \"v\", \"text\": \"\", \"x\": [\"Non Married\", \"Married\"], \"y\": [2966289500, 2051378878], \"type\": \"bar\", \"uid\": \"7fc539c5-3e0e-4647-97ce-d19d2e50ebb8\"}], {\"legend\": {\"bgcolor\": \"#F5F6F9\", \"font\": {\"color\": \"#4D5663\"}}, \"paper_bgcolor\": \"#F5F6F9\", \"plot_bgcolor\": \"#F5F6F9\", \"title\": {\"text\": \"Total Purchase amount of Male and Female\", \"font\": {\"color\": \"#4D5663\"}}, \"xaxis\": {\"gridcolor\": \"#E1E5ED\", \"showgrid\": true, \"tickfont\": {\"color\": \"#4D5663\"}, \"title\": {\"text\": \"Marital_Status\", \"font\": {\"color\": \"#4D5663\"}}, \"zerolinecolor\": \"#E1E5ED\"}, \"yaxis\": {\"gridcolor\": \"#E1E5ED\", \"showgrid\": true, \"tickfont\": {\"color\": \"#4D5663\"}, \"title\": {\"text\": \"Total Purchase Amount\", \"font\": {\"color\": \"#4D5663\"}}, \"zerolinecolor\": \"#E1E5ED\"}}, {\"showLink\": true, \"linkText\": \"Export to plot.ly\", \"plotlyServerURL\": \"https://plot.ly\"}); \n",
       "}\n",
       "});</script><script type=\"text/javascript\">window.addEventListener(\"resize\", function(){if (document.getElementById(\"178d4857-1010-4bb6-a73a-606a9d4589ee\")) {window._Plotly.Plots.resize(document.getElementById(\"178d4857-1010-4bb6-a73a-606a9d4589ee\"));};})</script>"
      ],
      "text/vnd.plotly.v1+html": [
       "<div id=\"178d4857-1010-4bb6-a73a-606a9d4589ee\" style=\"height: 525px; width: 100%;\" class=\"plotly-graph-div\"></div><script type=\"text/javascript\">require([\"plotly\"], function(Plotly) { window.PLOTLYENV=window.PLOTLYENV || {};window.PLOTLYENV.BASE_URL=\"https://plot.ly\";\n",
       "if (document.getElementById(\"178d4857-1010-4bb6-a73a-606a9d4589ee\")) {\n",
       "    Plotly.newPlot(\"178d4857-1010-4bb6-a73a-606a9d4589ee\", [{\"marker\": {\"color\": \"rgba(219, 64, 82, 0.6)\", \"line\": {\"color\": \"rgba(219, 64, 82, 1.0)\", \"width\": 1}}, \"name\": \"Purchase\", \"orientation\": \"v\", \"text\": \"\", \"x\": [\"Non Married\", \"Married\"], \"y\": [2966289500, 2051378878], \"type\": \"bar\", \"uid\": \"7fc539c5-3e0e-4647-97ce-d19d2e50ebb8\"}], {\"legend\": {\"bgcolor\": \"#F5F6F9\", \"font\": {\"color\": \"#4D5663\"}}, \"paper_bgcolor\": \"#F5F6F9\", \"plot_bgcolor\": \"#F5F6F9\", \"title\": {\"text\": \"Total Purchase amount of Male and Female\", \"font\": {\"color\": \"#4D5663\"}}, \"xaxis\": {\"gridcolor\": \"#E1E5ED\", \"showgrid\": true, \"tickfont\": {\"color\": \"#4D5663\"}, \"title\": {\"text\": \"Marital_Status\", \"font\": {\"color\": \"#4D5663\"}}, \"zerolinecolor\": \"#E1E5ED\"}, \"yaxis\": {\"gridcolor\": \"#E1E5ED\", \"showgrid\": true, \"tickfont\": {\"color\": \"#4D5663\"}, \"title\": {\"text\": \"Total Purchase Amount\", \"font\": {\"color\": \"#4D5663\"}}, \"zerolinecolor\": \"#E1E5ED\"}}, {\"showLink\": true, \"linkText\": \"Export to plot.ly\", \"plotlyServerURL\": \"https://plot.ly\"}); \n",
       "}\n",
       "});</script><script type=\"text/javascript\">window.addEventListener(\"resize\", function(){if (document.getElementById(\"178d4857-1010-4bb6-a73a-606a9d4589ee\")) {window._Plotly.Plots.resize(document.getElementById(\"178d4857-1010-4bb6-a73a-606a9d4589ee\"));};})</script>"
      ]
     },
     "metadata": {},
     "output_type": "display_data"
    }
   ],
   "source": [
    "temp_df = df.groupby('Marital_Status', axis=0)['Purchase'].sum().reset_index()\n",
    "temp_df['Marital_Status'] = temp_df['Marital_Status'].apply(lambda x: 'Non Married' if x==0 else 'Married')\n",
    "\n",
    "temp_df.iplot(kind='bar', x='Marital_Status', y='Purchase', title='Total Purchase amount of Male and Female',\n",
    "             xTitle='Marital_Status', yTitle='Total Purchase Amount', color='red')\n"
   ]
  },
  {
   "cell_type": "markdown",
   "metadata": {},
   "source": [
    "* As expected, as Non Married people are more in number than Married people, so thier total purchase amount is also large."
   ]
  },
  {
   "cell_type": "markdown",
   "metadata": {},
   "source": [
    "### ========================================================================"
   ]
  },
  {
   "cell_type": "markdown",
   "metadata": {},
   "source": [
    "### 9). Which Product Category Purchased maximum number of times."
   ]
  },
  {
   "cell_type": "code",
   "execution_count": 17,
   "metadata": {},
   "outputs": [
    {
     "data": {
      "application/vnd.plotly.v1+json": {
       "config": {
        "linkText": "Export to plot.ly",
        "plotlyServerURL": "https://plot.ly",
        "showLink": true
       },
       "data": [
        {
         "marker": {
          "color": "rgba(0, 191, 255, 0.6)",
          "line": {
           "color": "rgba(0, 191, 255, 1.0)",
           "width": 1
          }
         },
         "name": "product",
         "orientation": "v",
         "text": "",
         "type": "bar",
         "uid": "a967f0f9-644a-475f-841f-b76257bb9e9b",
         "x": [
          8,
          5,
          1,
          2,
          14,
          16,
          15,
          11,
          4,
          6
         ],
         "y": [
          342176,
          174466,
          138353,
          71980,
          55658,
          52299,
          43520,
          37905,
          36792,
          36415
         ]
        }
       ],
       "layout": {
        "legend": {
         "bgcolor": "#F5F6F9",
         "font": {
          "color": "#4D5663"
         }
        },
        "paper_bgcolor": "#F5F6F9",
        "plot_bgcolor": "#F5F6F9",
        "title": {
         "font": {
          "color": "#4D5663"
         },
         "text": "Top 10 product number which purchase maximum number of times"
        },
        "xaxis": {
         "gridcolor": "#E1E5ED",
         "showgrid": true,
         "tickfont": {
          "color": "#4D5663"
         },
         "title": {
          "font": {
           "color": "#4D5663"
          },
          "text": "Product number"
         },
         "zerolinecolor": "#E1E5ED"
        },
        "yaxis": {
         "gridcolor": "#E1E5ED",
         "showgrid": true,
         "tickfont": {
          "color": "#4D5663"
         },
         "title": {
          "font": {
           "color": "#4D5663"
          },
          "text": "Frequency"
         },
         "zerolinecolor": "#E1E5ED"
        }
       }
      },
      "text/html": [
       "<div id=\"07ddf35b-458b-448e-8d83-50f3c9883530\" style=\"height: 525px; width: 100%;\" class=\"plotly-graph-div\"></div><script type=\"text/javascript\">require([\"plotly\"], function(Plotly) { window.PLOTLYENV=window.PLOTLYENV || {};window.PLOTLYENV.BASE_URL=\"https://plot.ly\";\n",
       "if (document.getElementById(\"07ddf35b-458b-448e-8d83-50f3c9883530\")) {\n",
       "    Plotly.newPlot(\"07ddf35b-458b-448e-8d83-50f3c9883530\", [{\"marker\": {\"color\": \"rgba(0, 191, 255, 0.6)\", \"line\": {\"color\": \"rgba(0, 191, 255, 1.0)\", \"width\": 1}}, \"name\": \"product\", \"orientation\": \"v\", \"text\": \"\", \"x\": [8.0, 5.0, 1.0, 2.0, 14.0, 16.0, 15.0, 11.0, 4.0, 6.0], \"y\": [342176, 174466, 138353, 71980, 55658, 52299, 43520, 37905, 36792, 36415], \"type\": \"bar\", \"uid\": \"af16645a-41db-4fbe-8c41-1ef582305cb7\"}], {\"legend\": {\"bgcolor\": \"#F5F6F9\", \"font\": {\"color\": \"#4D5663\"}}, \"paper_bgcolor\": \"#F5F6F9\", \"plot_bgcolor\": \"#F5F6F9\", \"title\": {\"text\": \"Top 10 product number which purchase maximum number of times\", \"font\": {\"color\": \"#4D5663\"}}, \"xaxis\": {\"gridcolor\": \"#E1E5ED\", \"showgrid\": true, \"tickfont\": {\"color\": \"#4D5663\"}, \"title\": {\"text\": \"Product number\", \"font\": {\"color\": \"#4D5663\"}}, \"zerolinecolor\": \"#E1E5ED\"}, \"yaxis\": {\"gridcolor\": \"#E1E5ED\", \"showgrid\": true, \"tickfont\": {\"color\": \"#4D5663\"}, \"title\": {\"text\": \"Frequency\", \"font\": {\"color\": \"#4D5663\"}}, \"zerolinecolor\": \"#E1E5ED\"}}, {\"showLink\": true, \"linkText\": \"Export to plot.ly\", \"plotlyServerURL\": \"https://plot.ly\"}); \n",
       "}\n",
       "});</script><script type=\"text/javascript\">window.addEventListener(\"resize\", function(){if (document.getElementById(\"07ddf35b-458b-448e-8d83-50f3c9883530\")) {window._Plotly.Plots.resize(document.getElementById(\"07ddf35b-458b-448e-8d83-50f3c9883530\"));};})</script>"
      ],
      "text/vnd.plotly.v1+html": [
       "<div id=\"07ddf35b-458b-448e-8d83-50f3c9883530\" style=\"height: 525px; width: 100%;\" class=\"plotly-graph-div\"></div><script type=\"text/javascript\">require([\"plotly\"], function(Plotly) { window.PLOTLYENV=window.PLOTLYENV || {};window.PLOTLYENV.BASE_URL=\"https://plot.ly\";\n",
       "if (document.getElementById(\"07ddf35b-458b-448e-8d83-50f3c9883530\")) {\n",
       "    Plotly.newPlot(\"07ddf35b-458b-448e-8d83-50f3c9883530\", [{\"marker\": {\"color\": \"rgba(0, 191, 255, 0.6)\", \"line\": {\"color\": \"rgba(0, 191, 255, 1.0)\", \"width\": 1}}, \"name\": \"product\", \"orientation\": \"v\", \"text\": \"\", \"x\": [8.0, 5.0, 1.0, 2.0, 14.0, 16.0, 15.0, 11.0, 4.0, 6.0], \"y\": [342176, 174466, 138353, 71980, 55658, 52299, 43520, 37905, 36792, 36415], \"type\": \"bar\", \"uid\": \"af16645a-41db-4fbe-8c41-1ef582305cb7\"}], {\"legend\": {\"bgcolor\": \"#F5F6F9\", \"font\": {\"color\": \"#4D5663\"}}, \"paper_bgcolor\": \"#F5F6F9\", \"plot_bgcolor\": \"#F5F6F9\", \"title\": {\"text\": \"Top 10 product number which purchase maximum number of times\", \"font\": {\"color\": \"#4D5663\"}}, \"xaxis\": {\"gridcolor\": \"#E1E5ED\", \"showgrid\": true, \"tickfont\": {\"color\": \"#4D5663\"}, \"title\": {\"text\": \"Product number\", \"font\": {\"color\": \"#4D5663\"}}, \"zerolinecolor\": \"#E1E5ED\"}, \"yaxis\": {\"gridcolor\": \"#E1E5ED\", \"showgrid\": true, \"tickfont\": {\"color\": \"#4D5663\"}, \"title\": {\"text\": \"Frequency\", \"font\": {\"color\": \"#4D5663\"}}, \"zerolinecolor\": \"#E1E5ED\"}}, {\"showLink\": true, \"linkText\": \"Export to plot.ly\", \"plotlyServerURL\": \"https://plot.ly\"}); \n",
       "}\n",
       "});</script><script type=\"text/javascript\">window.addEventListener(\"resize\", function(){if (document.getElementById(\"07ddf35b-458b-448e-8d83-50f3c9883530\")) {window._Plotly.Plots.resize(document.getElementById(\"07ddf35b-458b-448e-8d83-50f3c9883530\"));};})</script>"
      ]
     },
     "metadata": {},
     "output_type": "display_data"
    }
   ],
   "source": [
    "pro1 = df['Product_Category_1'].reset_index()\n",
    "pro1.columns = ['index', 'product']\n",
    "\n",
    "pro2 = df['Product_Category_2'].reset_index()\n",
    "pro2.columns = ['index', 'product']\n",
    "product = pd.concat([pro1, pro2] )\n",
    "\n",
    "product = product['product'].value_counts().reset_index()[:10]\n",
    "product.iplot(kind='bar', x='index', y='product', title='Top 10 product number which purchase maximum number of times',\n",
    "             xTitle='Product number', yTitle='Frequency', color='deepskyblue')"
   ]
  },
  {
   "cell_type": "markdown",
   "metadata": {},
   "source": [
    "* So product number 8 is purchased maximum number of times."
   ]
  },
  {
   "cell_type": "markdown",
   "metadata": {},
   "source": [
    "### ======================================================================"
   ]
  },
  {
   "cell_type": "markdown",
   "metadata": {},
   "source": [
    "### 10). Rich city from city category A,B,C."
   ]
  },
  {
   "cell_type": "code",
   "execution_count": 18,
   "metadata": {},
   "outputs": [
    {
     "data": {
      "application/vnd.plotly.v1+json": {
       "config": {
        "linkText": "Export to plot.ly",
        "plotlyServerURL": "https://plot.ly",
        "showLink": true
       },
       "data": [
        {
         "hole": 0.2,
         "labels": [
          "B",
          "C",
          "A"
         ],
         "marker": {
          "colors": [
           "rgba(255, 153, 51, 1.0)",
           "rgba(55, 128, 191, 1.0)",
           "rgba(50, 171, 96, 1.0)"
          ]
         },
         "name": "",
         "pull": 0.2,
         "type": "pie",
         "values": [
          2083431612,
          1638567969,
          1295668797
         ]
        }
       ],
       "layout": {
        "legend": {
         "bgcolor": "#F5F6F9",
         "font": {
          "color": "#4D5663"
         }
        },
        "paper_bgcolor": "#F5F6F9",
        "plot_bgcolor": "#F5F6F9",
        "title": "Richest among A,B,C",
        "titlefont": {
         "color": "#4D5663"
        }
       }
      },
      "text/html": [
       "<div id=\"68f6c882-c6b0-43d1-b212-d807d016ec87\" style=\"height: 525px; width: 100%;\" class=\"plotly-graph-div\"></div><script type=\"text/javascript\">require([\"plotly\"], function(Plotly) { window.PLOTLYENV=window.PLOTLYENV || {};window.PLOTLYENV.BASE_URL=\"https://plot.ly\";\n",
       "if (document.getElementById(\"68f6c882-c6b0-43d1-b212-d807d016ec87\")) {\n",
       "    Plotly.newPlot(\"68f6c882-c6b0-43d1-b212-d807d016ec87\", [{\"hole\": 0.2, \"labels\": [\"B\", \"C\", \"A\"], \"marker\": {\"colors\": [\"rgba(255, 153, 51, 1.0)\", \"rgba(55, 128, 191, 1.0)\", \"rgba(50, 171, 96, 1.0)\"]}, \"name\": \"\", \"pull\": 0.2, \"values\": [2083431612, 1638567969, 1295668797], \"type\": \"pie\"}], {\"legend\": {\"bgcolor\": \"#F5F6F9\", \"font\": {\"color\": \"#4D5663\"}}, \"paper_bgcolor\": \"#F5F6F9\", \"plot_bgcolor\": \"#F5F6F9\", \"titlefont\": {\"color\": \"#4D5663\"}, \"title\": \"Richest among A,B,C\"}, {\"showLink\": true, \"linkText\": \"Export to plot.ly\", \"plotlyServerURL\": \"https://plot.ly\"}); \n",
       "}\n",
       "});</script><script type=\"text/javascript\">window.addEventListener(\"resize\", function(){if (document.getElementById(\"68f6c882-c6b0-43d1-b212-d807d016ec87\")) {window._Plotly.Plots.resize(document.getElementById(\"68f6c882-c6b0-43d1-b212-d807d016ec87\"));};})</script>"
      ],
      "text/vnd.plotly.v1+html": [
       "<div id=\"68f6c882-c6b0-43d1-b212-d807d016ec87\" style=\"height: 525px; width: 100%;\" class=\"plotly-graph-div\"></div><script type=\"text/javascript\">require([\"plotly\"], function(Plotly) { window.PLOTLYENV=window.PLOTLYENV || {};window.PLOTLYENV.BASE_URL=\"https://plot.ly\";\n",
       "if (document.getElementById(\"68f6c882-c6b0-43d1-b212-d807d016ec87\")) {\n",
       "    Plotly.newPlot(\"68f6c882-c6b0-43d1-b212-d807d016ec87\", [{\"hole\": 0.2, \"labels\": [\"B\", \"C\", \"A\"], \"marker\": {\"colors\": [\"rgba(255, 153, 51, 1.0)\", \"rgba(55, 128, 191, 1.0)\", \"rgba(50, 171, 96, 1.0)\"]}, \"name\": \"\", \"pull\": 0.2, \"values\": [2083431612, 1638567969, 1295668797], \"type\": \"pie\"}], {\"legend\": {\"bgcolor\": \"#F5F6F9\", \"font\": {\"color\": \"#4D5663\"}}, \"paper_bgcolor\": \"#F5F6F9\", \"plot_bgcolor\": \"#F5F6F9\", \"titlefont\": {\"color\": \"#4D5663\"}, \"title\": \"Richest among A,B,C\"}, {\"showLink\": true, \"linkText\": \"Export to plot.ly\", \"plotlyServerURL\": \"https://plot.ly\"}); \n",
       "}\n",
       "});</script><script type=\"text/javascript\">window.addEventListener(\"resize\", function(){if (document.getElementById(\"68f6c882-c6b0-43d1-b212-d807d016ec87\")) {window._Plotly.Plots.resize(document.getElementById(\"68f6c882-c6b0-43d1-b212-d807d016ec87\"));};})</script>"
      ]
     },
     "metadata": {},
     "output_type": "display_data"
    }
   ],
   "source": [
    "rich = df.groupby('City_Category')['Purchase'].sum().reset_index()\n",
    "rich.sort_values('Purchase',ascending=False, inplace=True)\n",
    "rich.iplot(kind='pie', labels='City_Category' ,values='Purchase', hole=0.2, pull=0.2,\n",
    "           title='Richest among A,B,C', )\n"
   ]
  },
  {
   "cell_type": "markdown",
   "metadata": {},
   "source": [
    "* As one can B is the richest city among A,B,C with 41% followed by C and then followed by A.\n",
    "* If mall owner knows that a particular person is from which city then worker there can show them products according to it, which lead to the benefit of the company.\n"
   ]
  },
  {
   "cell_type": "markdown",
   "metadata": {},
   "source": [
    "\n",
    "### ========================================================================="
   ]
  },
  {
   "cell_type": "markdown",
   "metadata": {},
   "source": [
    "### 11). Correlation between features on heatmap."
   ]
  },
  {
   "cell_type": "code",
   "execution_count": 19,
   "metadata": {},
   "outputs": [
    {
     "data": {
      "application/vnd.plotly.v1+json": {
       "config": {
        "linkText": "Export to plot.ly",
        "plotlyServerURL": "https://plot.ly",
        "showLink": true
       },
       "data": [
        {
         "colorscale": [
          [
           0,
           "rgb(255, 153, 51)"
          ],
          [
           0.1111111111111111,
           "rgb(55, 128, 191)"
          ],
          [
           0.2222222222222222,
           "rgb(50, 171, 96)"
          ],
          [
           0.3333333333333333,
           "rgb(128, 0, 128)"
          ],
          [
           0.4444444444444444,
           "rgb(219, 64, 82)"
          ],
          [
           0.5555555555555556,
           "rgb(0, 128, 128)"
          ],
          [
           0.6666666666666666,
           "rgb(255, 255, 51)"
          ],
          [
           0.7777777777777778,
           "rgb(128, 128, 0)"
          ],
          [
           0.8888888888888888,
           "rgb(251, 128, 114)"
          ],
          [
           1,
           "rgb(128, 177, 211)"
          ]
         ],
         "type": "heatmap",
         "uid": "aea2cce8-3adb-47de-b0bf-1f17c6a84a0b",
         "x": [
          "Occupation",
          "Marital_Status",
          "Product_Category_1",
          "Product_Category_2",
          "Purchase"
         ],
         "y": [
          "Occupation",
          "Marital_Status",
          "Product_Category_1",
          "Product_Category_2",
          "Purchase"
         ],
         "z": [
          [
           1,
           0.0246908507470373,
           -0.008114402754243804,
           0.0018122099592273,
           0.021104340194124833
          ],
          [
           0.0246908507470373,
           1,
           0.020545866143857543,
           0.010296462391676801,
           0.00012901814909535423
          ],
          [
           -0.008114402754243804,
           0.020545866143857543,
           1,
           0.3025426526542113,
           -0.31412473546985253
          ],
          [
           0.0018122099592273,
           0.010296462391676801,
           0.3025426526542113,
           1,
           -0.13429971458947776
          ],
          [
           0.021104340194124833,
           0.00012901814909535423,
           -0.31412473546985253,
           -0.13429971458947776,
           1
          ]
         ],
         "zmax": 1,
         "zmin": -0.31412473546985253
        }
       ],
       "layout": {
        "legend": {
         "bgcolor": "#F5F6F9",
         "font": {
          "color": "#4D5663"
         }
        },
        "paper_bgcolor": "#F5F6F9",
        "plot_bgcolor": "#F5F6F9",
        "title": {
         "font": {
          "color": "#4D5663"
         },
         "text": "HeatMap on Correlation of features "
        },
        "xaxis": {
         "gridcolor": "#E1E5ED",
         "showgrid": true,
         "tickfont": {
          "color": "#4D5663"
         },
         "title": {
          "font": {
           "color": "#4D5663"
          },
          "text": ""
         },
         "zerolinecolor": "#E1E5ED"
        },
        "yaxis": {
         "gridcolor": "#E1E5ED",
         "showgrid": true,
         "tickfont": {
          "color": "#4D5663"
         },
         "title": {
          "font": {
           "color": "#4D5663"
          },
          "text": ""
         },
         "zerolinecolor": "#E1E5ED"
        }
       }
      },
      "text/html": [
       "<div id=\"5dc6618f-c661-474d-9507-99f67e7d2b10\" style=\"height: 525px; width: 100%;\" class=\"plotly-graph-div\"></div><script type=\"text/javascript\">require([\"plotly\"], function(Plotly) { window.PLOTLYENV=window.PLOTLYENV || {};window.PLOTLYENV.BASE_URL=\"https://plot.ly\";\n",
       "if (document.getElementById(\"5dc6618f-c661-474d-9507-99f67e7d2b10\")) {\n",
       "    Plotly.newPlot(\"5dc6618f-c661-474d-9507-99f67e7d2b10\", [{\"colorscale\": [[0.0, \"rgb(255, 153, 51)\"], [0.1111111111111111, \"rgb(55, 128, 191)\"], [0.2222222222222222, \"rgb(50, 171, 96)\"], [0.3333333333333333, \"rgb(128, 0, 128)\"], [0.4444444444444444, \"rgb(219, 64, 82)\"], [0.5555555555555556, \"rgb(0, 128, 128)\"], [0.6666666666666666, \"rgb(255, 255, 51)\"], [0.7777777777777778, \"rgb(128, 128, 0)\"], [0.8888888888888888, \"rgb(251, 128, 114)\"], [1.0, \"rgb(128, 177, 211)\"]], \"x\": [\"Occupation\", \"Marital_Status\", \"Product_Category_1\", \"Product_Category_2\", \"Purchase\"], \"y\": [\"Occupation\", \"Marital_Status\", \"Product_Category_1\", \"Product_Category_2\", \"Purchase\"], \"z\": [[1.0, 0.0246908507470373, -0.008114402754243804, 0.0018122099592273, 0.021104340194124833], [0.0246908507470373, 1.0, 0.020545866143857543, 0.010296462391676801, 0.00012901814909535423], [-0.008114402754243804, 0.020545866143857543, 1.0, 0.3025426526542113, -0.31412473546985253], [0.0018122099592273, 0.010296462391676801, 0.3025426526542113, 1.0, -0.13429971458947776], [0.021104340194124833, 0.00012901814909535423, -0.31412473546985253, -0.13429971458947776, 1.0]], \"zmax\": 1.0, \"zmin\": -0.31412473546985253, \"type\": \"heatmap\", \"uid\": \"1020ac0d-c8e8-4ecb-b0a9-145ddab5f848\"}], {\"legend\": {\"bgcolor\": \"#F5F6F9\", \"font\": {\"color\": \"#4D5663\"}}, \"paper_bgcolor\": \"#F5F6F9\", \"plot_bgcolor\": \"#F5F6F9\", \"title\": {\"text\": \"HeatMap on Correlation of features \", \"font\": {\"color\": \"#4D5663\"}}, \"xaxis\": {\"gridcolor\": \"#E1E5ED\", \"showgrid\": true, \"tickfont\": {\"color\": \"#4D5663\"}, \"title\": {\"text\": \"\", \"font\": {\"color\": \"#4D5663\"}}, \"zerolinecolor\": \"#E1E5ED\"}, \"yaxis\": {\"gridcolor\": \"#E1E5ED\", \"showgrid\": true, \"tickfont\": {\"color\": \"#4D5663\"}, \"title\": {\"text\": \"\", \"font\": {\"color\": \"#4D5663\"}}, \"zerolinecolor\": \"#E1E5ED\"}}, {\"showLink\": true, \"linkText\": \"Export to plot.ly\", \"plotlyServerURL\": \"https://plot.ly\"}); \n",
       "}\n",
       "});</script><script type=\"text/javascript\">window.addEventListener(\"resize\", function(){if (document.getElementById(\"5dc6618f-c661-474d-9507-99f67e7d2b10\")) {window._Plotly.Plots.resize(document.getElementById(\"5dc6618f-c661-474d-9507-99f67e7d2b10\"));};})</script>"
      ],
      "text/vnd.plotly.v1+html": [
       "<div id=\"5dc6618f-c661-474d-9507-99f67e7d2b10\" style=\"height: 525px; width: 100%;\" class=\"plotly-graph-div\"></div><script type=\"text/javascript\">require([\"plotly\"], function(Plotly) { window.PLOTLYENV=window.PLOTLYENV || {};window.PLOTLYENV.BASE_URL=\"https://plot.ly\";\n",
       "if (document.getElementById(\"5dc6618f-c661-474d-9507-99f67e7d2b10\")) {\n",
       "    Plotly.newPlot(\"5dc6618f-c661-474d-9507-99f67e7d2b10\", [{\"colorscale\": [[0.0, \"rgb(255, 153, 51)\"], [0.1111111111111111, \"rgb(55, 128, 191)\"], [0.2222222222222222, \"rgb(50, 171, 96)\"], [0.3333333333333333, \"rgb(128, 0, 128)\"], [0.4444444444444444, \"rgb(219, 64, 82)\"], [0.5555555555555556, \"rgb(0, 128, 128)\"], [0.6666666666666666, \"rgb(255, 255, 51)\"], [0.7777777777777778, \"rgb(128, 128, 0)\"], [0.8888888888888888, \"rgb(251, 128, 114)\"], [1.0, \"rgb(128, 177, 211)\"]], \"x\": [\"Occupation\", \"Marital_Status\", \"Product_Category_1\", \"Product_Category_2\", \"Purchase\"], \"y\": [\"Occupation\", \"Marital_Status\", \"Product_Category_1\", \"Product_Category_2\", \"Purchase\"], \"z\": [[1.0, 0.0246908507470373, -0.008114402754243804, 0.0018122099592273, 0.021104340194124833], [0.0246908507470373, 1.0, 0.020545866143857543, 0.010296462391676801, 0.00012901814909535423], [-0.008114402754243804, 0.020545866143857543, 1.0, 0.3025426526542113, -0.31412473546985253], [0.0018122099592273, 0.010296462391676801, 0.3025426526542113, 1.0, -0.13429971458947776], [0.021104340194124833, 0.00012901814909535423, -0.31412473546985253, -0.13429971458947776, 1.0]], \"zmax\": 1.0, \"zmin\": -0.31412473546985253, \"type\": \"heatmap\", \"uid\": \"1020ac0d-c8e8-4ecb-b0a9-145ddab5f848\"}], {\"legend\": {\"bgcolor\": \"#F5F6F9\", \"font\": {\"color\": \"#4D5663\"}}, \"paper_bgcolor\": \"#F5F6F9\", \"plot_bgcolor\": \"#F5F6F9\", \"title\": {\"text\": \"HeatMap on Correlation of features \", \"font\": {\"color\": \"#4D5663\"}}, \"xaxis\": {\"gridcolor\": \"#E1E5ED\", \"showgrid\": true, \"tickfont\": {\"color\": \"#4D5663\"}, \"title\": {\"text\": \"\", \"font\": {\"color\": \"#4D5663\"}}, \"zerolinecolor\": \"#E1E5ED\"}, \"yaxis\": {\"gridcolor\": \"#E1E5ED\", \"showgrid\": true, \"tickfont\": {\"color\": \"#4D5663\"}, \"title\": {\"text\": \"\", \"font\": {\"color\": \"#4D5663\"}}, \"zerolinecolor\": \"#E1E5ED\"}}, {\"showLink\": true, \"linkText\": \"Export to plot.ly\", \"plotlyServerURL\": \"https://plot.ly\"}); \n",
       "}\n",
       "});</script><script type=\"text/javascript\">window.addEventListener(\"resize\", function(){if (document.getElementById(\"5dc6618f-c661-474d-9507-99f67e7d2b10\")) {window._Plotly.Plots.resize(document.getElementById(\"5dc6618f-c661-474d-9507-99f67e7d2b10\"));};})</script>"
      ]
     },
     "metadata": {},
     "output_type": "display_data"
    }
   ],
   "source": [
    "df.corr().iplot(kind='heatmap', title='HeatMap on Correlation of features ')"
   ]
  },
  {
   "cell_type": "markdown",
   "metadata": {},
   "source": [
    "### =========================================================================="
   ]
  },
  {
   "cell_type": "markdown",
   "metadata": {},
   "source": [
    "# REGRESSION"
   ]
  },
  {
   "cell_type": "code",
   "execution_count": 20,
   "metadata": {},
   "outputs": [],
   "source": [
    "# IMporting the useful Machine Learning libraries.\n",
    "from sklearn.preprocessing import LabelEncoder, OneHotEncoder\n",
    "from sklearn.model_selection import train_test_split\n",
    "from sklearn.preprocessing import StandardScaler\n",
    "from sklearn.linear_model import LinearRegression\n",
    "from sklearn.svm import SVR\n",
    "from sklearn.linear_model import LogisticRegression\n",
    "from sklearn.svm import SVC\n",
    "from sklearn.naive_bayes import GaussianNB\n",
    "from sklearn.ensemble import RandomForestClassifier\n",
    "from sklearn.decomposition import PCA\n",
    "from sklearn.model_selection import cross_val_score\n"
   ]
  },
  {
   "cell_type": "code",
   "execution_count": 21,
   "metadata": {},
   "outputs": [],
   "source": [
    "# Let us create a feature matrix and target vector.\n",
    "x_train = df.iloc[:,:-1].values      # Feature matrix\n",
    "y_train = df.iloc[:,-1].values     # Target vector"
   ]
  },
  {
   "cell_type": "markdown",
   "metadata": {},
   "source": [
    "### 1). Dealing with categorical values."
   ]
  },
  {
   "cell_type": "code",
   "execution_count": 22,
   "metadata": {},
   "outputs": [
    {
     "name": "stderr",
     "output_type": "stream",
     "text": [
      "C:\\Anaconda3\\lib\\site-packages\\sklearn\\preprocessing\\_encoders.py:390: DeprecationWarning:\n",
      "\n",
      "The 'categorical_features' keyword is deprecated in version 0.20 and will be removed in 0.22. You can use the ColumnTransformer instead.\n",
      "\n"
     ]
    },
    {
     "name": "stdout",
     "output_type": "stream",
     "text": [
      "Now let us see the shape of our x_train matrix.\n",
      "Shape of x_train matrix =\t (537577, 73).\n",
      "So now we have 73 columns.\n",
      "Now we will apply Dimensionalty Reduction to reduce the number of features/columns with the help of PCA algorithm. \n"
     ]
    }
   ],
   "source": [
    "# Apply LabelEncoder to convert categorical values into 0,1 and so on format.\n",
    "label_x = LabelEncoder()\n",
    "x_train[:,0] = label_x.fit_transform(x_train[:,0])\n",
    "x_train[:,1] = label_x.fit_transform(x_train[:,1])\n",
    "x_train[:,3] = label_x.fit_transform(x_train[:,3])\n",
    "x_train[:,4] = label_x.fit_transform(x_train[:,4])\n",
    "\n",
    "# Apply OneHotEncoder to split the columns which have more than 2 categories.\n",
    "one_hot = OneHotEncoder(categorical_features=[1,2,3,4,6,7])\n",
    "x_train = one_hot.fit_transform(x_train).toarray()\n",
    "print(f\"\"\"Now let us see the shape of our x_train matrix.\n",
    "Shape of x_train matrix =\\t {x_train.shape}.\n",
    "So now we have 73 columns.\n",
    "Now we will apply Dimensionalty Reduction to reduce the number of features/columns with the help of PCA algorithm. \"\"\")"
   ]
  },
  {
   "cell_type": "markdown",
   "metadata": {},
   "source": [
    "### ================================================================\n"
   ]
  },
  {
   "cell_type": "markdown",
   "metadata": {},
   "source": [
    "### 2). Scaling the feature matrix, so that we can compare them on the same scale."
   ]
  },
  {
   "cell_type": "code",
   "execution_count": 23,
   "metadata": {},
   "outputs": [],
   "source": [
    "sc_x = StandardScaler()\n",
    "x_train = sc_x.fit_transform(x_train)"
   ]
  },
  {
   "cell_type": "markdown",
   "metadata": {},
   "source": [
    "### 3). Dimensionalty Reduction with the help of PCA algorithm."
   ]
  },
  {
   "cell_type": "code",
   "execution_count": 24,
   "metadata": {},
   "outputs": [
    {
     "data": {
      "text/plain": [
       "array([3.07961958e-02, 2.80003491e-02, 2.66756054e-02, 2.54718396e-02,\n",
       "       2.33202625e-02, 2.25407747e-02, 2.13145111e-02, 2.10317684e-02,\n",
       "       2.04429437e-02, 2.00029285e-02, 1.89966429e-02, 1.87807791e-02,\n",
       "       1.84106864e-02, 1.81799034e-02, 1.75751546e-02, 1.74209028e-02,\n",
       "       1.72303758e-02, 1.70204837e-02, 1.68322704e-02, 1.64045044e-02,\n",
       "       1.63145089e-02, 1.58948567e-02, 1.57087607e-02, 1.51043525e-02,\n",
       "       1.49086623e-02, 1.48346772e-02, 1.46003913e-02, 1.45148249e-02,\n",
       "       1.44051786e-02, 1.43241345e-02, 1.42060894e-02, 1.41638065e-02,\n",
       "       1.41516376e-02, 1.41276351e-02, 1.40778659e-02, 1.40248895e-02,\n",
       "       1.39768981e-02, 1.39594325e-02, 1.39078744e-02, 1.38717463e-02,\n",
       "       1.37867399e-02, 1.37354140e-02, 1.37154520e-02, 1.37061044e-02,\n",
       "       1.36595277e-02, 1.36092734e-02, 1.35638587e-02, 1.34920774e-02,\n",
       "       1.33647545e-02, 1.32708359e-02, 1.31506711e-02, 1.28339284e-02,\n",
       "       1.26882779e-02, 1.24630729e-02, 1.18506095e-02, 1.07824242e-02,\n",
       "       1.06094105e-02, 9.94533111e-03, 9.74453252e-03, 9.39575418e-03,\n",
       "       9.11921786e-03, 8.89955833e-03, 7.53768884e-03, 6.81159061e-03,\n",
       "       5.41947890e-03, 3.00958770e-03, 2.30772237e-03, 9.25507870e-28,\n",
       "       8.19744279e-29, 8.11275259e-30, 6.20759547e-30, 6.30524415e-31,\n",
       "       2.34191103e-31])"
      ]
     },
     "execution_count": 24,
     "metadata": {},
     "output_type": "execute_result"
    }
   ],
   "source": [
    "pca = PCA(n_components=None)\n",
    "x_train = pca.fit_transform(x_train)\n",
    "pca.explained_variance_ratio_"
   ]
  },
  {
   "cell_type": "markdown",
   "metadata": {},
   "source": [
    "* So now we will take 50 features (taking number of features with e-02). "
   ]
  },
  {
   "cell_type": "code",
   "execution_count": 25,
   "metadata": {},
   "outputs": [],
   "source": [
    "pca = PCA(n_components=50)   # Fitting PCA with 50 features.\n",
    "x_train = pca.fit_transform(x_train)"
   ]
  },
  {
   "cell_type": "markdown",
   "metadata": {},
   "source": [
    "### ==========================================================================="
   ]
  },
  {
   "cell_type": "markdown",
   "metadata": {},
   "source": [
    "### 4). Apply Multi-linear Regression and Support vector regressor Model."
   ]
  },
  {
   "cell_type": "markdown",
   "metadata": {},
   "source": [
    "#### a). Mutli-linear Regression Model."
   ]
  },
  {
   "cell_type": "code",
   "execution_count": 26,
   "metadata": {},
   "outputs": [
    {
     "name": "stdout",
     "output_type": "stream",
     "text": [
      "The accuracy of the Multi-linear Regressor Model is \t 0.4826316291035549\n",
      "The deviation in the accuracy is \t 0.0018466754589391726\n",
      "\n"
     ]
    }
   ],
   "source": [
    "# Multi-linear regression Model. \n",
    "regressor_multi = LinearRegression()\n",
    "regressor_multi.fit(x_train,y_train)\n",
    "# Let us check the accuray\n",
    "accuracy = cross_val_score(estimator=regressor_multi, X=x_train, y=y_train,cv=10)\n",
    "print(f\"The accuracy of the Multi-linear Regressor Model is \\t {accuracy.mean()}\")\n",
    "print(f\"The deviation in the accuracy is \\t {accuracy.std()}\")\n",
    "print()"
   ]
  },
  {
   "cell_type": "markdown",
   "metadata": {},
   "source": [
    "### Observation:-\n",
    "* Here we are getting accuracy of 50% with deviation of only 0.2%.\n",
    "* In my view this is good accuracy with this deviation.\n",
    "* Here we are getting low accuracy, it may indicates that our model may be not linear, so by applying the other non-linear algothim we may get more accuracy."
   ]
  },
  {
   "cell_type": "markdown",
   "metadata": {},
   "source": [
    "#### b). SVR Model"
   ]
  },
  {
   "cell_type": "code",
   "execution_count": 27,
   "metadata": {},
   "outputs": [
    {
     "name": "stdout",
     "output_type": "stream",
     "text": [
      "Apply this model, if accuracy is good then use this model\n",
      "This model takes too much time. \n"
     ]
    }
   ],
   "source": [
    "\"\"\"\n",
    "# SVR \n",
    "regressor_svr = SVR(kernel='rbf')\n",
    "regressor_svr.fit(x_train, y_train)\n",
    "# Let us check the accuracy\n",
    "accuracy = cross_val_score(estimator=regressor_svr, X=x_train, y=y_train,cv=10)\n",
    "print(f\"The accuracy of the SVR Model is \\t {accuracy.mean()}\")\n",
    "print(f\"The deviation in the accuracy is \\t {accuracy.std()}\")\n",
    "print()\n",
    "\"\"\"\n",
    "print(\"Apply this model, if accuracy is good then use this model\")\n",
    "print(\"This model takes too much time. \")"
   ]
  },
  {
   "cell_type": "markdown",
   "metadata": {},
   "source": [
    "### ============================================================================="
   ]
  },
  {
   "cell_type": "markdown",
   "metadata": {},
   "source": [
    "# CLASSIFICATION"
   ]
  },
  {
   "cell_type": "markdown",
   "metadata": {},
   "source": [
    "* Here On the basis of data we will classify whether a person is married or not."
   ]
  },
  {
   "cell_type": "code",
   "execution_count": 28,
   "metadata": {},
   "outputs": [
    {
     "data": {
      "text/html": [
       "<div>\n",
       "<style scoped>\n",
       "    .dataframe tbody tr th:only-of-type {\n",
       "        vertical-align: middle;\n",
       "    }\n",
       "\n",
       "    .dataframe tbody tr th {\n",
       "        vertical-align: top;\n",
       "    }\n",
       "\n",
       "    .dataframe thead th {\n",
       "        text-align: right;\n",
       "    }\n",
       "</style>\n",
       "<table border=\"1\" class=\"dataframe\">\n",
       "  <thead>\n",
       "    <tr style=\"text-align: right;\">\n",
       "      <th></th>\n",
       "      <th>Gender</th>\n",
       "      <th>Age</th>\n",
       "      <th>Occupation</th>\n",
       "      <th>City_Category</th>\n",
       "      <th>Stay_In_Current_City_Years</th>\n",
       "      <th>Marital_Status</th>\n",
       "      <th>Product_Category_1</th>\n",
       "      <th>Product_Category_2</th>\n",
       "      <th>Purchase</th>\n",
       "    </tr>\n",
       "  </thead>\n",
       "  <tbody>\n",
       "    <tr>\n",
       "      <th>0</th>\n",
       "      <td>F</td>\n",
       "      <td>0-17</td>\n",
       "      <td>10</td>\n",
       "      <td>A</td>\n",
       "      <td>2</td>\n",
       "      <td>0</td>\n",
       "      <td>3</td>\n",
       "      <td>8.0</td>\n",
       "      <td>8370</td>\n",
       "    </tr>\n",
       "    <tr>\n",
       "      <th>1</th>\n",
       "      <td>F</td>\n",
       "      <td>0-17</td>\n",
       "      <td>10</td>\n",
       "      <td>A</td>\n",
       "      <td>2</td>\n",
       "      <td>0</td>\n",
       "      <td>1</td>\n",
       "      <td>6.0</td>\n",
       "      <td>15200</td>\n",
       "    </tr>\n",
       "    <tr>\n",
       "      <th>2</th>\n",
       "      <td>F</td>\n",
       "      <td>0-17</td>\n",
       "      <td>10</td>\n",
       "      <td>A</td>\n",
       "      <td>2</td>\n",
       "      <td>0</td>\n",
       "      <td>12</td>\n",
       "      <td>8.0</td>\n",
       "      <td>1422</td>\n",
       "    </tr>\n",
       "    <tr>\n",
       "      <th>3</th>\n",
       "      <td>F</td>\n",
       "      <td>0-17</td>\n",
       "      <td>10</td>\n",
       "      <td>A</td>\n",
       "      <td>2</td>\n",
       "      <td>0</td>\n",
       "      <td>12</td>\n",
       "      <td>14.0</td>\n",
       "      <td>1057</td>\n",
       "    </tr>\n",
       "    <tr>\n",
       "      <th>4</th>\n",
       "      <td>M</td>\n",
       "      <td>55+</td>\n",
       "      <td>16</td>\n",
       "      <td>C</td>\n",
       "      <td>4+</td>\n",
       "      <td>0</td>\n",
       "      <td>8</td>\n",
       "      <td>8.0</td>\n",
       "      <td>7969</td>\n",
       "    </tr>\n",
       "  </tbody>\n",
       "</table>\n",
       "</div>"
      ],
      "text/plain": [
       "  Gender   Age  Occupation City_Category Stay_In_Current_City_Years  \\\n",
       "0      F  0-17          10             A                          2   \n",
       "1      F  0-17          10             A                          2   \n",
       "2      F  0-17          10             A                          2   \n",
       "3      F  0-17          10             A                          2   \n",
       "4      M   55+          16             C                         4+   \n",
       "\n",
       "   Marital_Status  Product_Category_1  Product_Category_2  Purchase  \n",
       "0               0                   3                 8.0      8370  \n",
       "1               0                   1                 6.0     15200  \n",
       "2               0                  12                 8.0      1422  \n",
       "3               0                  12                14.0      1057  \n",
       "4               0                   8                 8.0      7969  "
      ]
     },
     "execution_count": 28,
     "metadata": {},
     "output_type": "execute_result"
    }
   ],
   "source": [
    "df.head()"
   ]
  },
  {
   "cell_type": "code",
   "execution_count": 29,
   "metadata": {},
   "outputs": [],
   "source": [
    "# Creating Feature matrix and Target vector.\n",
    "x_train = df.drop(labels='Marital_Status',axis=1).values\n",
    "y_train = df['Marital_Status'].values"
   ]
  },
  {
   "cell_type": "markdown",
   "metadata": {},
   "source": [
    "### 1). Dealing with categorical values."
   ]
  },
  {
   "cell_type": "code",
   "execution_count": 30,
   "metadata": {},
   "outputs": [
    {
     "name": "stderr",
     "output_type": "stream",
     "text": [
      "C:\\Anaconda3\\lib\\site-packages\\sklearn\\preprocessing\\_encoders.py:390: DeprecationWarning:\n",
      "\n",
      "The 'categorical_features' keyword is deprecated in version 0.20 and will be removed in 0.22. You can use the ColumnTransformer instead.\n",
      "\n"
     ]
    },
    {
     "name": "stdout",
     "output_type": "stream",
     "text": [
      "Now let us see the shape of our x_train matrix.\n",
      "Shape of x_train matrix =\t (537577, 73).\n",
      "So now we have 73 columns.\n",
      "Now we will apply Dimensionalty Reduction to reduce the number of features/columns with the help of PCA algorithm. \n"
     ]
    }
   ],
   "source": [
    "# Apply LabelEncoder to convert categorical values into 0,1 and so on format.\n",
    "label_x = LabelEncoder()\n",
    "x_train[:,0] = label_x.fit_transform(x_train[:,0])\n",
    "x_train[:,1] = label_x.fit_transform(x_train[:,1])\n",
    "x_train[:,3] = label_x.fit_transform(x_train[:,3])\n",
    "x_train[:,4] = label_x.fit_transform(x_train[:,4])\n",
    "\n",
    "# Apply OneHotEncoder to split the columns which have more than 2 categories.\n",
    "one_hot = OneHotEncoder(categorical_features=[1,2,3,4,5,6])\n",
    "x_train = one_hot.fit_transform(x_train).toarray()\n",
    "print(f\"\"\"Now let us see the shape of our x_train matrix.\n",
    "Shape of x_train matrix =\\t {x_train.shape}.\n",
    "So now we have 73 columns.\n",
    "Now we will apply Dimensionalty Reduction to reduce the number of features/columns with the help of PCA algorithm. \"\"\")"
   ]
  },
  {
   "cell_type": "markdown",
   "metadata": {},
   "source": [
    "### =============================================================="
   ]
  },
  {
   "cell_type": "markdown",
   "metadata": {},
   "source": [
    "### 2). Scaling the feature matric."
   ]
  },
  {
   "cell_type": "code",
   "execution_count": 31,
   "metadata": {},
   "outputs": [],
   "source": [
    "sc_x = StandardScaler()\n",
    "x_train = sc_x.fit_transform(x_train)"
   ]
  },
  {
   "cell_type": "markdown",
   "metadata": {},
   "source": [
    "### 3). Dimensionality Reduction with Principle Component Analysis (PCA)."
   ]
  },
  {
   "cell_type": "code",
   "execution_count": 32,
   "metadata": {},
   "outputs": [
    {
     "data": {
      "text/plain": [
       "array([3.53357058e-02, 2.80498398e-02, 2.61408396e-02, 2.49312906e-02,\n",
       "       2.33543900e-02, 2.27666734e-02, 2.23418118e-02, 2.12534619e-02,\n",
       "       2.07610391e-02, 2.00420822e-02, 1.91924455e-02, 1.89227796e-02,\n",
       "       1.85755249e-02, 1.84077865e-02, 1.77527490e-02, 1.73747768e-02,\n",
       "       1.70878778e-02, 1.69484756e-02, 1.68005614e-02, 1.63968409e-02,\n",
       "       1.61216774e-02, 1.60855880e-02, 1.56540311e-02, 1.51804275e-02,\n",
       "       1.50041846e-02, 1.48461791e-02, 1.46743349e-02, 1.45722772e-02,\n",
       "       1.44193786e-02, 1.43185505e-02, 1.42299564e-02, 1.41864001e-02,\n",
       "       1.41473868e-02, 1.40961591e-02, 1.40547547e-02, 1.40329313e-02,\n",
       "       1.40052995e-02, 1.39745334e-02, 1.39468153e-02, 1.38915786e-02,\n",
       "       1.37979662e-02, 1.37295287e-02, 1.37117865e-02, 1.36746374e-02,\n",
       "       1.36612442e-02, 1.36099818e-02, 1.35554224e-02, 1.34938759e-02,\n",
       "       1.33488388e-02, 1.32355347e-02, 1.31499472e-02, 1.27951226e-02,\n",
       "       1.26870883e-02, 1.25003039e-02, 1.19051941e-02, 1.09951523e-02,\n",
       "       9.96043063e-03, 9.82435732e-03, 9.40612455e-03, 9.13472089e-03,\n",
       "       9.02448222e-03, 7.80251735e-03, 7.19301912e-03, 5.65332829e-03,\n",
       "       3.02897737e-03, 2.99324549e-03, 2.24777508e-03, 9.25536924e-28,\n",
       "       8.12924221e-29, 8.23096295e-30, 6.29492937e-30, 5.98015314e-31,\n",
       "       2.39353094e-31])"
      ]
     },
     "execution_count": 32,
     "metadata": {},
     "output_type": "execute_result"
    }
   ],
   "source": [
    "pca = PCA(n_components=None)\n",
    "x_train = pca.fit_transform(x_train)\n",
    "pca.explained_variance_ratio_"
   ]
  },
  {
   "cell_type": "code",
   "execution_count": 33,
   "metadata": {},
   "outputs": [],
   "source": [
    "pca = PCA(n_components=50)   # Fitting PCA with 50 features.\n",
    "x_train = pca.fit_transform(x_train)"
   ]
  },
  {
   "cell_type": "markdown",
   "metadata": {},
   "source": [
    "### ==========================================================================="
   ]
  },
  {
   "cell_type": "markdown",
   "metadata": {},
   "source": [
    "### 4). Apply Logistic Regression Model."
   ]
  },
  {
   "cell_type": "code",
   "execution_count": 34,
   "metadata": {},
   "outputs": [
    {
     "name": "stdout",
     "output_type": "stream",
     "text": [
      "The accuracy of the Logistic Regressor Model is \t 0.658878629350484\n",
      "The deviation in the accuracy is \t 0.0031776294900038716\n"
     ]
    }
   ],
   "source": [
    "# Apply Logistic regression\n",
    "# First step is to train our model .\n",
    "\n",
    "classifier_logi = LogisticRegression()\n",
    "classifier_logi.fit(x_train,y_train)\n",
    "\n",
    "# Let us check the accuracy of the model\n",
    "accuracy = cross_val_score(estimator=classifier_logi, X=x_train, y=y_train, cv=10)\n",
    "print(f\"The accuracy of the Logistic Regressor Model is \\t {accuracy.mean()}\")\n",
    "print(f\"The deviation in the accuracy is \\t {accuracy.std()}\")"
   ]
  },
  {
   "cell_type": "markdown",
   "metadata": {},
   "source": [
    "### Observations:-\n",
    "* Accuracy of 65% with only 0.2% deviation.\n",
    "* Our model is good.\n",
    "* Now we can also apply other model, to check the accuray of other models.\n",
    "* But other models will take so much time to train.\n",
    "* I am here providing the code of SVC Model and Navie-Bayes Model, but I am not ruuning them right now.\n",
    "* Feel free to use code of these models to train your model"
   ]
  },
  {
   "cell_type": "markdown",
   "metadata": {},
   "source": [
    "### 5). Apply Support Vector Classifier (SVC)."
   ]
  },
  {
   "cell_type": "code",
   "execution_count": 35,
   "metadata": {},
   "outputs": [
    {
     "name": "stdout",
     "output_type": "stream",
     "text": [
      "SVC Model\n"
     ]
    }
   ],
   "source": [
    "\"\"\"\n",
    "\n",
    "# Apply SVM with Gaussian kernel\n",
    "classifier_svm2 = SVC(kernel='rbf', )\n",
    "classifier_svm2.fit(x_train,y_train)\n",
    "accuracy = cross_val_score(estimator=classifier_svm2, X=x_train, y=y_train, cv=10)\n",
    "print(f\"The accuracy of the SVM Gaussian kernel Model is \\t {accuracy.mean()}\")\n",
    "print(f\"The deviation in the accuracy is \\t {accuracy.std()}\")\n",
    "\"\"\"\n",
    "print(\"SVC Model\")"
   ]
  },
  {
   "cell_type": "markdown",
   "metadata": {},
   "source": [
    "### 6). Naiye-Bayes Model."
   ]
  },
  {
   "cell_type": "code",
   "execution_count": 36,
   "metadata": {},
   "outputs": [
    {
     "name": "stdout",
     "output_type": "stream",
     "text": [
      "Navie-Bayes Model\n"
     ]
    }
   ],
   "source": [
    "\"\"\"\n",
    "\n",
    "# Apply Naive Bayes Model.\n",
    "# Train Model\n",
    "classifier_bayes = GaussianNB()\n",
    "classifier_bayes.fit(x_train,y_train)\n",
    "# Check the accuracy and deviation in the accuracy\n",
    "accuracy = cross_val_score(estimator=classifier_bayes, X=x_train, y=y_train, cv=10)\n",
    "print(f\"The accuracy of the Naive Bayes Model is \\t {accuracy.mean()}\") \n",
    "print(f\"The deviation in the accuracy is \\t {accuracy.std()}\")\n",
    "\"\"\"\n",
    "print(\"Navie-Bayes Model\")"
   ]
  },
  {
   "cell_type": "markdown",
   "metadata": {},
   "source": [
    "* Likewise one can also predict the Gender of a person."
   ]
  },
  {
   "cell_type": "markdown",
   "metadata": {},
   "source": [
    "### ======================================================================"
   ]
  },
  {
   "cell_type": "code",
   "execution_count": null,
   "metadata": {},
   "outputs": [],
   "source": []
  }
 ],
 "metadata": {
  "kernelspec": {
   "display_name": "Python 3",
   "language": "python",
   "name": "python3"
  },
  "language_info": {
   "codemirror_mode": {
    "name": "ipython",
    "version": 3
   },
   "file_extension": ".py",
   "mimetype": "text/x-python",
   "name": "python",
   "nbconvert_exporter": "python",
   "pygments_lexer": "ipython3",
   "version": "3.7.0"
  }
 },
 "nbformat": 4,
 "nbformat_minor": 1
}
